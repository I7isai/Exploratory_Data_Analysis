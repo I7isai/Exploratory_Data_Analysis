{
 "cells": [
  {
   "cell_type": "markdown",
   "metadata": {},
   "source": [
    "# Final Project - Loans Dataset\n",
    "\n",
    "Welcome to the final step on the Exploratory Data Analysis (EDA) module. Congratulations! This is the final project!\n",
    "\n",
    "\n",
    "## Instructions\n",
    "\n",
    "The objective of this project is to explore and solve problems on a Loans Dataset (`final_project_lending.csv`). This dataset contains information about credit applicants. Banks use this kind of datasets to create models to help on deciding on who to accept/refuse for a loan. Generally, after cleaning and organizing the dataset, the patterns of a good / bad applicant are learned by machine learning models.\n",
    "\n",
    "Explore, test, evaluate, think, be skeptic! This is Data Science!\n",
    "\n",
    "\n",
    "## Details on the dataset\n",
    "\n",
    "The Target (Label) name is `bad_loan`, where $1$ means the observation is a default (person that ended up not paying the loan), and $0$ means the observation is a non-default (person that ended up paying the loan).\n",
    "\n",
    "All the other features are characteristics of the applicant. \n",
    "\n",
    "\n",
    "## Delivery of Project\n",
    "\n",
    "This jupyter notebook is to be delivered to evaluate your knowledge on the Exploratory Data Analysis module at Rumos, **before the FINAL DATE (27-02-2022)** agreed with the professor. Please add your name and e-mail next.\n",
    "\n",
    "**Student Name**: **** \n",
    "\n",
    "**E-mail**: ****@****.com\n",
    "\n",
    "\n",
    "## Plagiarism\n",
    "\n",
    "Always remember that you are here to learn. Discussions on the final project are highly incentivised but please do not share your work. The struggle to solve the problems is needed in order to become a true Data Scientist. By allowing others to use your code you are making the world a worse place: you are not truly helping your colleague, and you are not promoting discussions on the topic.\n",
    "\n",
    "\n",
    "---\n",
    "*Instructor: [*****](https://www.linkedin.com/in/*****/)  \n",
    "Contact: ****@****.com*"
   ]
  },
  {
   "cell_type": "code",
   "execution_count": 3,
   "metadata": {},
   "outputs": [],
   "source": [
    "# NOTE: You can import any library you might find useful besides the following ones\n",
    "import pandas as pd\n",
    "import numpy as np\n",
    "import seaborn as sns\n",
    "\n",
    "from sklearn.preprocessing import MinMaxScaler\n",
    "from sklearn.feature_selection import VarianceThreshold\n",
    "from sklearn.pipeline import Pipeline\n",
    "from sklearn.impute import SimpleImputer\n",
    "from sklearn.preprocessing import StandardScaler\n",
    "from sklearn.decomposition import PCA\n",
    "from sklearn.base import TransformerMixin\n",
    "from sklearn.base import BaseEstimator\n",
    "from sklearn.preprocessing import OneHotEncoder\n",
    "from sklearn.preprocessing import OrdinalEncoder\n",
    "\n",
    "from scipy import stats\n",
    "\n",
    "import matplotlib.pyplot as plt"
   ]
  },
  {
   "cell_type": "code",
   "execution_count": 4,
   "metadata": {},
   "outputs": [],
   "source": [
    "# RUN this cell: load the dataset (do NOT delete this cell)\n",
    "data = pd.read_csv('final_project_lending.csv', low_memory=False)"
   ]
  },
  {
   "cell_type": "markdown",
   "metadata": {},
   "source": [
    "# Objectives\n",
    "\n",
    "Please solve the following exercises by creating a markdown cell with **# EXERCISE >>NUMBER<<**  just before you solve it (you can use the number of cells you need after that).\n",
    "\n",
    "1. Take a **quick look** at your dataset. If you could say something about it in two sentences, what would it be?\n",
    "\n",
    "2. **Data Visualization**. *A picture is worth a thousand words.* Do not forget all the tips made on the Data Visualization class!\n",
    "\n",
    "   2.1. Pick two numerical variables. Create a **scatter plot**. Describe what you see.  \n",
    "   2.2. Create a **bar plot**, out of your dataset, that you think is relevant.  \n",
    "   2.3. Create a beautiful **heatmap**. Remember what are they useful to show (correlations...)?  \n",
    "   2.4. Create a **distribution plot**, with a feature vs target. Don't forget to add some alpha.  \n",
    "   2.5. (Optional, but incentivized) Create an additional **insightful plot**. Please explain what relevant insight(s) you get from that plot.  \n",
    "\n",
    "3. Fully characterize, in term of **descriptive statistics**, the variables `id`, `annual_inc` and `grade`.\n",
    "\n",
    "4. Correlation.\n",
    "\n",
    "   4.1. What are the two most correlated numerical features (Spearman) - absolute number?   \n",
    "   4.2. What is the numerical feature most correlated with the target (Pearson)?  \n",
    "\n",
    "5. Are there any **outliers**? If there are, solved them. **Justify** all detected outliers, and **justify** the method you chose to eliminate. \n",
    "\n",
    "6. Deal with the **missing values**, along with anomalies. Detect and transform or eliminate them. Remember: not all missing values are represented by a `np.nan`.\n",
    "\n",
    "7. **Feature Selection**.\n",
    "\n",
    "   7.1. Select at least two numerical features to drop. Justify the method(s) you used, and why you chose those variables. (Note: you can drop more variables, either categorical or numerical)\n",
    "\n",
    "8. **Pipelines** (scikit-learn). Load the dataset again and **select only the numerical variables**.\n",
    "\n",
    "   8.1. Create a pipeline with three steps: 1) [SimpleImputer](https://scikit-learn.org/stable/modules/generated/sklearn.impute.SimpleImputer.html) with `strategy=’median’`; 2) One Scaler you may know; 3) [Principal Component Analysis](http://scikit-learn.org/stable/modules/generated/sklearn.decomposition.PCA.html) (with final 5 features)  \n",
    "   8.2. Fit and Transform your dataset.  \n",
    "   8.3. Comment what you obtained.  \n",
    "\n",
    "9. Create a new Pipeline with, **at least, one Transformer created by you**. This Transformer should help on solving one of the issues the dataset has such as for example, outliers, dropping columns based on any particular characteristic, encoding, etc. Then, fit and transform the dataset. NOTE: you can choose to work only with **numerical** or **categorical** variables to ease your work.\n",
    "\n",
    "\n",
    "## Evaluation\n",
    "Points (of a total of 100%):\n",
    "1. 5%  \n",
    "2. 25%  \n",
    "3. 10%  \n",
    "4. 10%  \n",
    "5. 10%  \n",
    "6. 10%  \n",
    "7. 10%  \n",
    "8. 10% \n",
    "9. 5%\n",
    "\n",
    "Final 5% for additional effort and conclusions beyond what was asked (give your _extra mile_).\n",
    "\n",
    "## Important notes\n",
    "1. Data Science is all about *flow*. Keep your analysis work-flow consistent.  \n",
    "2. When it is requested you to *describe* something, please be 1. skeptic, 2. objective, and 3. succinct! \n",
    "3. If you don't know: search, invent, study, but please don't leave any exercise blank.\n",
    "\n",
    "### Good luck!\n",
    "# 3, 2, 1, GO! GO! GO!"
   ]
  },
  {
   "cell_type": "markdown",
   "metadata": {},
   "source": [
    "# EXERCISE 1"
   ]
  },
  {
   "cell_type": "markdown",
   "metadata": {},
   "source": [
    "# 1. \n",
    "Take a **quick look** at your dataset. If you could say something about it in two sentences, what would it be?"
   ]
  },
  {
   "cell_type": "code",
   "execution_count": 5,
   "metadata": {},
   "outputs": [
    {
     "data": {
      "text/html": [
       "<div>\n",
       "<style scoped>\n",
       "    .dataframe tbody tr th:only-of-type {\n",
       "        vertical-align: middle;\n",
       "    }\n",
       "\n",
       "    .dataframe tbody tr th {\n",
       "        vertical-align: top;\n",
       "    }\n",
       "\n",
       "    .dataframe thead th {\n",
       "        text-align: right;\n",
       "    }\n",
       "</style>\n",
       "<table border=\"1\" class=\"dataframe\">\n",
       "  <thead>\n",
       "    <tr style=\"text-align: right;\">\n",
       "      <th></th>\n",
       "      <th>id</th>\n",
       "      <th>grade</th>\n",
       "      <th>annual_inc</th>\n",
       "      <th>short_emp</th>\n",
       "      <th>emp_length_num</th>\n",
       "      <th>home_ownership</th>\n",
       "      <th>dti</th>\n",
       "      <th>purpose</th>\n",
       "      <th>term</th>\n",
       "      <th>last_delinq_none</th>\n",
       "      <th>last_major_derog_none</th>\n",
       "      <th>revol_util</th>\n",
       "      <th>total_rec_late_fee</th>\n",
       "      <th>od_ratio</th>\n",
       "      <th>bad_loan</th>\n",
       "    </tr>\n",
       "  </thead>\n",
       "  <tbody>\n",
       "    <tr>\n",
       "      <th>0</th>\n",
       "      <td>11454641</td>\n",
       "      <td>A</td>\n",
       "      <td>100000.0</td>\n",
       "      <td>1</td>\n",
       "      <td>1</td>\n",
       "      <td>RENT</td>\n",
       "      <td>26.27</td>\n",
       "      <td>credit_card</td>\n",
       "      <td>36 months</td>\n",
       "      <td>1</td>\n",
       "      <td>NaN</td>\n",
       "      <td>43.2</td>\n",
       "      <td>0.0</td>\n",
       "      <td>0.160624</td>\n",
       "      <td>0</td>\n",
       "    </tr>\n",
       "    <tr>\n",
       "      <th>1</th>\n",
       "      <td>9604874</td>\n",
       "      <td>A</td>\n",
       "      <td>83000.0</td>\n",
       "      <td>0</td>\n",
       "      <td>4</td>\n",
       "      <td>OWN</td>\n",
       "      <td>5.39</td>\n",
       "      <td>credit_card</td>\n",
       "      <td>36 months</td>\n",
       "      <td>0</td>\n",
       "      <td>NaN</td>\n",
       "      <td>21.5</td>\n",
       "      <td>0.0</td>\n",
       "      <td>0.810777</td>\n",
       "      <td>0</td>\n",
       "    </tr>\n",
       "    <tr>\n",
       "      <th>2</th>\n",
       "      <td>9684700</td>\n",
       "      <td>D</td>\n",
       "      <td>78000.0</td>\n",
       "      <td>0</td>\n",
       "      <td>11</td>\n",
       "      <td>MORTGAGE</td>\n",
       "      <td>18.45</td>\n",
       "      <td>debt_consolidation</td>\n",
       "      <td>60 months</td>\n",
       "      <td>1</td>\n",
       "      <td>NaN</td>\n",
       "      <td>46.3</td>\n",
       "      <td>0.0</td>\n",
       "      <td>0.035147</td>\n",
       "      <td>1</td>\n",
       "    </tr>\n",
       "    <tr>\n",
       "      <th>3</th>\n",
       "      <td>9695736</td>\n",
       "      <td>D</td>\n",
       "      <td>37536.0</td>\n",
       "      <td>0</td>\n",
       "      <td>6</td>\n",
       "      <td>MORTGAGE</td>\n",
       "      <td>12.28</td>\n",
       "      <td>medical</td>\n",
       "      <td>60 months</td>\n",
       "      <td>0</td>\n",
       "      <td>NaN</td>\n",
       "      <td>10.7</td>\n",
       "      <td>0.0</td>\n",
       "      <td>0.534887</td>\n",
       "      <td>1</td>\n",
       "    </tr>\n",
       "    <tr>\n",
       "      <th>4</th>\n",
       "      <td>9795013</td>\n",
       "      <td>D</td>\n",
       "      <td>65000.0</td>\n",
       "      <td>0</td>\n",
       "      <td>11</td>\n",
       "      <td>MORTGAGE</td>\n",
       "      <td>11.26</td>\n",
       "      <td>debt_consolidation</td>\n",
       "      <td>36 months</td>\n",
       "      <td>0</td>\n",
       "      <td>NaN</td>\n",
       "      <td>15.2</td>\n",
       "      <td>0.0</td>\n",
       "      <td>0.166500</td>\n",
       "      <td>0</td>\n",
       "    </tr>\n",
       "  </tbody>\n",
       "</table>\n",
       "</div>"
      ],
      "text/plain": [
       "         id grade  annual_inc  short_emp  emp_length_num home_ownership  \\\n",
       "0  11454641     A    100000.0          1               1           RENT   \n",
       "1   9604874     A     83000.0          0               4            OWN   \n",
       "2   9684700     D     78000.0          0              11       MORTGAGE   \n",
       "3   9695736     D     37536.0          0               6       MORTGAGE   \n",
       "4   9795013     D     65000.0          0              11       MORTGAGE   \n",
       "\n",
       "     dti             purpose        term  last_delinq_none  \\\n",
       "0  26.27         credit_card   36 months                 1   \n",
       "1   5.39         credit_card   36 months                 0   \n",
       "2  18.45  debt_consolidation   60 months                 1   \n",
       "3  12.28             medical   60 months                 0   \n",
       "4  11.26  debt_consolidation   36 months                 0   \n",
       "\n",
       "   last_major_derog_none  revol_util  total_rec_late_fee  od_ratio  bad_loan  \n",
       "0                    NaN        43.2                 0.0  0.160624         0  \n",
       "1                    NaN        21.5                 0.0  0.810777         0  \n",
       "2                    NaN        46.3                 0.0  0.035147         1  \n",
       "3                    NaN        10.7                 0.0  0.534887         1  \n",
       "4                    NaN        15.2                 0.0  0.166500         0  "
      ]
     },
     "execution_count": 5,
     "metadata": {},
     "output_type": "execute_result"
    }
   ],
   "source": [
    "data.head()"
   ]
  },
  {
   "cell_type": "code",
   "execution_count": 6,
   "metadata": {},
   "outputs": [
    {
     "data": {
      "text/plain": [
       "(20000, 15)"
      ]
     },
     "execution_count": 6,
     "metadata": {},
     "output_type": "execute_result"
    }
   ],
   "source": [
    "data.shape"
   ]
  },
  {
   "cell_type": "code",
   "execution_count": 7,
   "metadata": {},
   "outputs": [
    {
     "data": {
      "text/plain": [
       "id                         int64\n",
       "grade                     object\n",
       "annual_inc               float64\n",
       "short_emp                  int64\n",
       "emp_length_num             int64\n",
       "home_ownership            object\n",
       "dti                      float64\n",
       "purpose                   object\n",
       "term                      object\n",
       "last_delinq_none           int64\n",
       "last_major_derog_none    float64\n",
       "revol_util               float64\n",
       "total_rec_late_fee       float64\n",
       "od_ratio                 float64\n",
       "bad_loan                   int64\n",
       "dtype: object"
      ]
     },
     "execution_count": 7,
     "metadata": {},
     "output_type": "execute_result"
    }
   ],
   "source": [
    "data.dtypes"
   ]
  },
  {
   "cell_type": "code",
   "execution_count": 8,
   "metadata": {},
   "outputs": [
    {
     "data": {
      "text/html": [
       "<div>\n",
       "<style scoped>\n",
       "    .dataframe tbody tr th:only-of-type {\n",
       "        vertical-align: middle;\n",
       "    }\n",
       "\n",
       "    .dataframe tbody tr th {\n",
       "        vertical-align: top;\n",
       "    }\n",
       "\n",
       "    .dataframe thead th {\n",
       "        text-align: right;\n",
       "    }\n",
       "</style>\n",
       "<table border=\"1\" class=\"dataframe\">\n",
       "  <thead>\n",
       "    <tr style=\"text-align: right;\">\n",
       "      <th></th>\n",
       "      <th>count</th>\n",
       "      <th>mean</th>\n",
       "      <th>std</th>\n",
       "      <th>min</th>\n",
       "      <th>25%</th>\n",
       "      <th>50%</th>\n",
       "      <th>75%</th>\n",
       "      <th>max</th>\n",
       "    </tr>\n",
       "  </thead>\n",
       "  <tbody>\n",
       "    <tr>\n",
       "      <th>id</th>\n",
       "      <td>20000.0</td>\n",
       "      <td>7.590662e+06</td>\n",
       "      <td>1.609593e+06</td>\n",
       "      <td>586040.000000</td>\n",
       "      <td>6.206283e+06</td>\n",
       "      <td>7.378896e+06</td>\n",
       "      <td>8.766235e+06</td>\n",
       "      <td>1.145464e+07</td>\n",
       "    </tr>\n",
       "    <tr>\n",
       "      <th>annual_inc</th>\n",
       "      <td>20000.0</td>\n",
       "      <td>7.334958e+04</td>\n",
       "      <td>4.519857e+04</td>\n",
       "      <td>8412.000000</td>\n",
       "      <td>4.700000e+04</td>\n",
       "      <td>6.500000e+04</td>\n",
       "      <td>8.800000e+04</td>\n",
       "      <td>1.000000e+06</td>\n",
       "    </tr>\n",
       "    <tr>\n",
       "      <th>short_emp</th>\n",
       "      <td>20000.0</td>\n",
       "      <td>1.125000e-01</td>\n",
       "      <td>3.159885e-01</td>\n",
       "      <td>0.000000</td>\n",
       "      <td>0.000000e+00</td>\n",
       "      <td>0.000000e+00</td>\n",
       "      <td>0.000000e+00</td>\n",
       "      <td>1.000000e+00</td>\n",
       "    </tr>\n",
       "    <tr>\n",
       "      <th>emp_length_num</th>\n",
       "      <td>20000.0</td>\n",
       "      <td>6.821400e+00</td>\n",
       "      <td>3.774230e+00</td>\n",
       "      <td>0.000000</td>\n",
       "      <td>3.000000e+00</td>\n",
       "      <td>7.000000e+00</td>\n",
       "      <td>1.100000e+01</td>\n",
       "      <td>1.100000e+01</td>\n",
       "    </tr>\n",
       "    <tr>\n",
       "      <th>dti</th>\n",
       "      <td>19846.0</td>\n",
       "      <td>1.658784e+01</td>\n",
       "      <td>7.585812e+00</td>\n",
       "      <td>0.000000</td>\n",
       "      <td>1.085250e+01</td>\n",
       "      <td>1.619000e+01</td>\n",
       "      <td>2.206000e+01</td>\n",
       "      <td>3.499000e+01</td>\n",
       "    </tr>\n",
       "    <tr>\n",
       "      <th>last_delinq_none</th>\n",
       "      <td>20000.0</td>\n",
       "      <td>5.466000e-01</td>\n",
       "      <td>4.978361e-01</td>\n",
       "      <td>0.000000</td>\n",
       "      <td>0.000000e+00</td>\n",
       "      <td>1.000000e+00</td>\n",
       "      <td>1.000000e+00</td>\n",
       "      <td>1.000000e+00</td>\n",
       "    </tr>\n",
       "    <tr>\n",
       "      <th>last_major_derog_none</th>\n",
       "      <td>574.0</td>\n",
       "      <td>7.595819e-01</td>\n",
       "      <td>4.277101e-01</td>\n",
       "      <td>0.000000</td>\n",
       "      <td>1.000000e+00</td>\n",
       "      <td>1.000000e+00</td>\n",
       "      <td>1.000000e+00</td>\n",
       "      <td>1.000000e+00</td>\n",
       "    </tr>\n",
       "    <tr>\n",
       "      <th>revol_util</th>\n",
       "      <td>20000.0</td>\n",
       "      <td>5.595815e+01</td>\n",
       "      <td>4.211746e+01</td>\n",
       "      <td>0.000000</td>\n",
       "      <td>3.880000e+01</td>\n",
       "      <td>5.710000e+01</td>\n",
       "      <td>7.390000e+01</td>\n",
       "      <td>5.010000e+03</td>\n",
       "    </tr>\n",
       "    <tr>\n",
       "      <th>total_rec_late_fee</th>\n",
       "      <td>20000.0</td>\n",
       "      <td>2.906216e-01</td>\n",
       "      <td>3.108654e+00</td>\n",
       "      <td>0.000000</td>\n",
       "      <td>0.000000e+00</td>\n",
       "      <td>0.000000e+00</td>\n",
       "      <td>0.000000e+00</td>\n",
       "      <td>9.646660e+01</td>\n",
       "    </tr>\n",
       "    <tr>\n",
       "      <th>od_ratio</th>\n",
       "      <td>20000.0</td>\n",
       "      <td>5.044303e-01</td>\n",
       "      <td>2.877202e-01</td>\n",
       "      <td>0.000077</td>\n",
       "      <td>2.573556e-01</td>\n",
       "      <td>5.066806e-01</td>\n",
       "      <td>7.537709e-01</td>\n",
       "      <td>9.998937e-01</td>\n",
       "    </tr>\n",
       "    <tr>\n",
       "      <th>bad_loan</th>\n",
       "      <td>20000.0</td>\n",
       "      <td>2.000000e-01</td>\n",
       "      <td>4.000100e-01</td>\n",
       "      <td>0.000000</td>\n",
       "      <td>0.000000e+00</td>\n",
       "      <td>0.000000e+00</td>\n",
       "      <td>0.000000e+00</td>\n",
       "      <td>1.000000e+00</td>\n",
       "    </tr>\n",
       "  </tbody>\n",
       "</table>\n",
       "</div>"
      ],
      "text/plain": [
       "                         count          mean           std            min  \\\n",
       "id                     20000.0  7.590662e+06  1.609593e+06  586040.000000   \n",
       "annual_inc             20000.0  7.334958e+04  4.519857e+04    8412.000000   \n",
       "short_emp              20000.0  1.125000e-01  3.159885e-01       0.000000   \n",
       "emp_length_num         20000.0  6.821400e+00  3.774230e+00       0.000000   \n",
       "dti                    19846.0  1.658784e+01  7.585812e+00       0.000000   \n",
       "last_delinq_none       20000.0  5.466000e-01  4.978361e-01       0.000000   \n",
       "last_major_derog_none    574.0  7.595819e-01  4.277101e-01       0.000000   \n",
       "revol_util             20000.0  5.595815e+01  4.211746e+01       0.000000   \n",
       "total_rec_late_fee     20000.0  2.906216e-01  3.108654e+00       0.000000   \n",
       "od_ratio               20000.0  5.044303e-01  2.877202e-01       0.000077   \n",
       "bad_loan               20000.0  2.000000e-01  4.000100e-01       0.000000   \n",
       "\n",
       "                                25%           50%           75%           max  \n",
       "id                     6.206283e+06  7.378896e+06  8.766235e+06  1.145464e+07  \n",
       "annual_inc             4.700000e+04  6.500000e+04  8.800000e+04  1.000000e+06  \n",
       "short_emp              0.000000e+00  0.000000e+00  0.000000e+00  1.000000e+00  \n",
       "emp_length_num         3.000000e+00  7.000000e+00  1.100000e+01  1.100000e+01  \n",
       "dti                    1.085250e+01  1.619000e+01  2.206000e+01  3.499000e+01  \n",
       "last_delinq_none       0.000000e+00  1.000000e+00  1.000000e+00  1.000000e+00  \n",
       "last_major_derog_none  1.000000e+00  1.000000e+00  1.000000e+00  1.000000e+00  \n",
       "revol_util             3.880000e+01  5.710000e+01  7.390000e+01  5.010000e+03  \n",
       "total_rec_late_fee     0.000000e+00  0.000000e+00  0.000000e+00  9.646660e+01  \n",
       "od_ratio               2.573556e-01  5.066806e-01  7.537709e-01  9.998937e-01  \n",
       "bad_loan               0.000000e+00  0.000000e+00  0.000000e+00  1.000000e+00  "
      ]
     },
     "execution_count": 8,
     "metadata": {},
     "output_type": "execute_result"
    }
   ],
   "source": [
    "data.describe().T"
   ]
  },
  {
   "cell_type": "code",
   "execution_count": 9,
   "metadata": {},
   "outputs": [
    {
     "data": {
      "text/plain": [
       "id                        0.000\n",
       "grade                     0.000\n",
       "annual_inc                0.000\n",
       "short_emp                 0.000\n",
       "emp_length_num            0.000\n",
       "home_ownership            7.455\n",
       "dti                       0.770\n",
       "purpose                   0.000\n",
       "term                      0.000\n",
       "last_delinq_none          0.000\n",
       "last_major_derog_none    97.130\n",
       "revol_util                0.000\n",
       "total_rec_late_fee        0.000\n",
       "od_ratio                  0.000\n",
       "bad_loan                  0.000\n",
       "dtype: float64"
      ]
     },
     "execution_count": 9,
     "metadata": {},
     "output_type": "execute_result"
    }
   ],
   "source": [
    "data.isnull().sum()/len(data)*100"
   ]
  },
  {
   "cell_type": "code",
   "execution_count": 10,
   "metadata": {},
   "outputs": [
    {
     "name": "stdout",
     "output_type": "stream",
     "text": [
      "grade \n",
      " B    30.210\n",
      "C    27.830\n",
      "D    17.770\n",
      "A    10.795\n",
      "E     8.225\n",
      "F     4.325\n",
      "G     0.845\n",
      "Name: grade, dtype: float64 \n",
      "\n",
      "home_ownership \n",
      " MORTGAGE    49.220\n",
      "RENT        35.260\n",
      "OWN          8.065\n",
      "Name: home_ownership, dtype: float64 \n",
      "\n",
      "purpose \n",
      " debt_consolidation    61.685\n",
      "credit_card           20.685\n",
      "home_improvement       5.480\n",
      "other                  5.105\n",
      "major_purchase         1.895\n",
      "small_business         1.325\n",
      "medical                0.875\n",
      "car                    0.840\n",
      "moving                 0.615\n",
      "vacation               0.560\n",
      "house                  0.505\n",
      "wedding                0.430\n",
      "Name: purpose, dtype: float64 \n",
      "\n",
      "term \n",
      "  36 months    74.845\n",
      " 60 months    24.995\n",
      " 36 Months     0.160\n",
      "Name: term, dtype: float64 \n",
      "\n"
     ]
    }
   ],
   "source": [
    "list = ['grade', 'home_ownership', 'purpose', 'term']\n",
    "\n",
    "for i in list:\n",
    "    print(i, '\\n',data[i].value_counts()/len(data)*100, '\\n')"
   ]
  },
  {
   "cell_type": "code",
   "execution_count": 11,
   "metadata": {},
   "outputs": [
    {
     "data": {
      "text/plain": [
       "0    80.0\n",
       "1    20.0\n",
       "Name: bad_loan, dtype: float64"
      ]
     },
     "execution_count": 11,
     "metadata": {},
     "output_type": "execute_result"
    }
   ],
   "source": [
    "data['bad_loan'].value_counts()/len(data)*100"
   ]
  },
  {
   "cell_type": "markdown",
   "metadata": {},
   "source": [
    "### Answer:\n",
    "\n",
    "The dataset has 2000 observations and 15 features, four categoric and the remaining numeric. Three features display missing values with 'last_major_derog_none' missing more than 97% of the observations. The target feature, bad_loan is a numeric binary feature with 80% observation being non-defaull and 20% observation defaulting on their loan, therefore we are facing an unbalanced dataset and a classification problem.\n",
    "\n",
    "In addition, there seems to be a misslabel problem in the 'term' feature with the 36 Months instead of 36 months."
   ]
  },
  {
   "cell_type": "code",
   "execution_count": null,
   "metadata": {},
   "outputs": [],
   "source": []
  },
  {
   "cell_type": "markdown",
   "metadata": {},
   "source": [
    "# EXERCISE 2"
   ]
  },
  {
   "cell_type": "markdown",
   "metadata": {},
   "source": [
    "2. **Data Visualization**. *A picture is worth a thousand words.* Do not forget all the tips made on the Data Visualization class!\n",
    "\n",
    "   2.1. Pick two numerical variables. Create a **scatter plot**. Describe what you see.  \n",
    "   2.2. Create a **bar plot**, out of your dataset, that you think is relevant.  \n",
    "   2.3. Create a beautiful **heatmap**. Remember what are they useful to show (correlations...)?  \n",
    "   2.4. Create a **distribution plot**, with a feature vs target. Don't forget to add some alpha.  \n",
    "   2.5. (Optional, but incentivized) Create an additional **insightful plot**. Please explain what relevant insight(s) you get from that plot.  \n"
   ]
  },
  {
   "cell_type": "markdown",
   "metadata": {},
   "source": [
    " # 2.1. \n",
    " Pick two numerical variables. Create a **scatter plot**. Describe what you see."
   ]
  },
  {
   "cell_type": "code",
   "execution_count": 12,
   "metadata": {},
   "outputs": [],
   "source": [
    "targets = {\n",
    "    0: 'non-default',\n",
    "    1: 'default',\n",
    "}"
   ]
  },
  {
   "cell_type": "code",
   "execution_count": 13,
   "metadata": {},
   "outputs": [
    {
     "data": {
      "image/png": "[encoded data removed]",
      "text/plain": [
       "<Figure size 432x288 with 1 Axes>"
      ]
     },
     "metadata": {
      "needs_background": "light"
     },
     "output_type": "display_data"
    }
   ],
   "source": [
    "for target in data['bad_loan'].unique():\n",
    "    mask = data['bad_loan'] == target\n",
    "    plt.scatter(\n",
    "        data[mask]['annual_inc'],\n",
    "        data[mask]['dti'],\n",
    "        label = targets[target],\n",
    "        alpha =0.4\n",
    "    )\n",
    "    \n",
    "plt.xlabel('annual_inc')\n",
    "plt.ylabel('dti')\n",
    "plt.title('annual_inc vs dti')\n",
    "#plt.grid()\n",
    "plt.legend()\n",
    "plt.show()"
   ]
  },
  {
   "cell_type": "markdown",
   "metadata": {},
   "source": [
    "# Answer\n",
    "\n",
    "Scatter plot of 'dti' (debt to income ratio) to 'annual_inc'. We can see that the majority of the bank clients ear less than 200K and so the majority of defaults occur when annual_inc is less than 200K. Some tendency can be observed when the clients earn more then 400K their dti seem to be less than 15."
   ]
  },
  {
   "cell_type": "markdown",
   "metadata": {},
   "source": [
    "# 2.2. \n",
    "\n",
    "Create a **bar plot**, out of your dataset, that you think is relevant."
   ]
  },
  {
   "cell_type": "code",
   "execution_count": 14,
   "metadata": {},
   "outputs": [
    {
     "data": {
      "image/png": "[encoded data removed]",
      "text/plain": [
       "<Figure size 432x288 with 1 Axes>"
      ]
     },
     "metadata": {
      "needs_background": "light"
     },
     "output_type": "display_data"
    }
   ],
   "source": [
    "data['grade'].value_counts().plot(kind=\"bar\", title='grade', rot = 0, color = 'slategray')\n",
    "\n",
    "plt.title('Loan grades')\n",
    "plt.xlabel('Grades')\n",
    "plt.ylabel('Frequence')\n",
    "plt.show()"
   ]
  },
  {
   "cell_type": "code",
   "execution_count": 15,
   "metadata": {},
   "outputs": [
    {
     "data": {
      "image/png": "[encoded data removed]",
      "text/plain": [
       "<Figure size 413.125x360 with 1 Axes>"
      ]
     },
     "metadata": {
      "needs_background": "light"
     },
     "output_type": "display_data"
    }
   ],
   "source": [
    "sns.displot(data, x = 'grade', hue = 'bad_loan');"
   ]
  },
  {
   "cell_type": "code",
   "execution_count": 19,
   "metadata": {},
   "outputs": [
    {
     "data": {
      "text/plain": [
       "grade  bad_loan\n",
       "A      0           2035\n",
       "       1            124\n",
       "B      0           5275\n",
       "       1            767\n",
       "C      0           4394\n",
       "       1           1172\n",
       "D      0           2575\n",
       "       1            979\n",
       "E      0           1103\n",
       "       1            542\n",
       "F      0            514\n",
       "       1            351\n",
       "G      0            104\n",
       "       1             65\n",
       "Name: bad_loan, dtype: int64"
      ]
     },
     "execution_count": 19,
     "metadata": {},
     "output_type": "execute_result"
    }
   ],
   "source": [
    "data.groupby(['grade'])['bad_loan'].value_counts()"
   ]
  },
  {
   "cell_type": "markdown",
   "metadata": {
    "jp-MarkdownHeadingCollapsed": true,
    "tags": []
   },
   "source": [
    "# Answer:\n",
    "\n",
    "Most loans are attributed grade B or C, both with more than 5000 observation, while the least attributed grade are F and G. Its seems that loans grade F and G seem to deafult in half the loans granted in these grades."
   ]
  },
  {
   "cell_type": "markdown",
   "metadata": {},
   "source": [
    "# 2.3. \n",
    "Create a beautiful **heatmap**. Remember what are they useful to show (correlations...)? "
   ]
  },
  {
   "cell_type": "code",
   "execution_count": 20,
   "metadata": {},
   "outputs": [],
   "source": [
    "corr = data.corr()\n",
    "#corr"
   ]
  },
  {
   "cell_type": "code",
   "execution_count": 21,
   "metadata": {},
   "outputs": [],
   "source": [
    "mask = np.zeros_like(corr)\n",
    "mask[np.triu_indices_from(mask)] = True\n",
    "#mask"
   ]
  },
  {
   "cell_type": "code",
   "execution_count": 22,
   "metadata": {},
   "outputs": [
    {
     "data": {
      "image/png": "[encoded data removed]",
      "text/plain": [
       "<Figure size 720x576 with 2 Axes>"
      ]
     },
     "metadata": {
      "needs_background": "light"
     },
     "output_type": "display_data"
    }
   ],
   "source": [
    "plt.figure(figsize=(10, 8))\n",
    "\n",
    "sns.heatmap(\n",
    "    corr.iloc[1:, :-1],\n",
    "    mask=mask[1:, :-1],\n",
    "    vmin=-1, vmax=1, cmap=\"coolwarm\", square=True, annot=True\n",
    ");"
   ]
  },
  {
   "cell_type": "markdown",
   "metadata": {},
   "source": [
    "# Answer \n",
    "\n",
    "It seems that the features 'last_delinq_nome' and 'last_major_derog_none' seem, to have a high positive correlated with 0.6 correlation while 'emp_lenght_num' and 'short_emp' seem to be negative correlated. However 'last_major_derog_none' gave 97% of missing data, so we must be carefull with this result. The features more correlated to the target feature are 'dti' and 'total_rec_late_fee' with 0.14 and 0.13 respectively."
   ]
  },
  {
   "cell_type": "markdown",
   "metadata": {},
   "source": [
    "# 2.4. \n",
    "Create a **distribution plot**, with a feature vs target. Don't forget to add some alpha."
   ]
  },
  {
   "cell_type": "code",
   "execution_count": 23,
   "metadata": {},
   "outputs": [
    {
     "data": {
      "text/plain": [
       "<seaborn.axisgrid.FacetGrid at 0x7f55faa5b430>"
      ]
     },
     "execution_count": 23,
     "metadata": {},
     "output_type": "execute_result"
    },
    {
     "data": {
      "image/png": "[encoded data removed]",
      "text/plain": [
       "<Figure size 413.125x360 with 1 Axes>"
      ]
     },
     "metadata": {
      "needs_background": "light"
     },
     "output_type": "display_data"
    }
   ],
   "source": [
    "sns.displot(data=data, x=\"annual_inc\", bins=100, hue=\"bad_loan\", rug=True, kde=False, lw=0, alpha=0.3)"
   ]
  },
  {
   "cell_type": "markdown",
   "metadata": {},
   "source": [
    "# Answer\n",
    "\n",
    "The distribuiton plot of 'annual_inc' shows that the observations are concentrated below the 200k mark. There are however several values above the 200k mark with default and non-default observation. Above the 400K mark most observations are non-default although few default observation are observed."
   ]
  },
  {
   "cell_type": "markdown",
   "metadata": {},
   "source": [
    "# 2.5. \n",
    "(Optional, but incentivized) Create an additional **insightful plot**. Please explain what relevant insight(s) you get from that plot."
   ]
  },
  {
   "cell_type": "code",
   "execution_count": 28,
   "metadata": {},
   "outputs": [
    {
     "data": {
      "image/png": "[encoded data removed]",
      "text/plain": [
       "<Figure size 432x432 with 1 Axes>"
      ]
     },
     "metadata": {
      "needs_background": "light"
     },
     "output_type": "display_data"
    }
   ],
   "source": [
    "plt.figure(figsize=(6, 6))\n",
    "\n",
    "sns.boxplot(x='bad_loan', y=\"annual_inc\", data=data)\n",
    "\n",
    "\n",
    "plt.title('Annual income to Default and non-Default Clients')\n",
    "plt.show()"
   ]
  },
  {
   "cell_type": "markdown",
   "metadata": {},
   "source": [
    "# Answer \n",
    "\n",
    "Non-default clients have a higher median annual income and more potential outliers with more clients with a higher annual income. On the other side, default clients display a lower median annual income and some potential outliers, which, while still displaying a higher annual income, still defaults on their loans."
   ]
  },
  {
   "cell_type": "code",
   "execution_count": null,
   "metadata": {},
   "outputs": [],
   "source": []
  },
  {
   "cell_type": "markdown",
   "metadata": {},
   "source": [
    "# EXERCISE 3"
   ]
  },
  {
   "cell_type": "markdown",
   "metadata": {},
   "source": [
    " Fully characterize, in term of **descriptive statistics**, the variables `id`, `annual_inc` and `grade`."
   ]
  },
  {
   "cell_type": "markdown",
   "metadata": {},
   "source": [
    "* 'id'"
   ]
  },
  {
   "cell_type": "code",
   "execution_count": 29,
   "metadata": {},
   "outputs": [
    {
     "data": {
      "text/plain": [
       "count       20000\n",
       "mean      7590662\n",
       "std       1609593\n",
       "min        586040\n",
       "25%       6206282\n",
       "50%       7378896\n",
       "75%       8766234\n",
       "max      11454641\n",
       "Name: id, dtype: int64"
      ]
     },
     "execution_count": 29,
     "metadata": {},
     "output_type": "execute_result"
    }
   ],
   "source": [
    "data['id'].describe().astype(int)"
   ]
  },
  {
   "cell_type": "code",
   "execution_count": 30,
   "metadata": {},
   "outputs": [
    {
     "data": {
      "text/plain": [
       "0.3349299221454227"
      ]
     },
     "execution_count": 30,
     "metadata": {},
     "output_type": "execute_result"
    }
   ],
   "source": [
    "stats.skew(data['id'])"
   ]
  },
  {
   "cell_type": "code",
   "execution_count": 31,
   "metadata": {},
   "outputs": [
    {
     "data": {
      "text/plain": [
       "-0.35951771246049"
      ]
     },
     "execution_count": 31,
     "metadata": {},
     "output_type": "execute_result"
    }
   ],
   "source": [
    "stats.kurtosis(data['id'])"
   ]
  },
  {
   "cell_type": "code",
   "execution_count": 32,
   "metadata": {},
   "outputs": [
    {
     "data": {
      "text/plain": [
       "0"
      ]
     },
     "execution_count": 32,
     "metadata": {},
     "output_type": "execute_result"
    }
   ],
   "source": [
    "data['id'].isnull().sum()"
   ]
  },
  {
   "cell_type": "markdown",
   "metadata": {},
   "source": [
    "However, id is a loan unique identifier and therefore this attribute might not be relevant"
   ]
  },
  {
   "cell_type": "markdown",
   "metadata": {},
   "source": [
    "* 'annual_inc'"
   ]
  },
  {
   "cell_type": "code",
   "execution_count": 33,
   "metadata": {},
   "outputs": [
    {
     "data": {
      "text/plain": [
       "count      20000\n",
       "mean       73349\n",
       "std        45198\n",
       "min         8412\n",
       "25%        47000\n",
       "50%        65000\n",
       "75%        88000\n",
       "max      1000000\n",
       "Name: annual_inc, dtype: int64"
      ]
     },
     "execution_count": 33,
     "metadata": {},
     "output_type": "execute_result"
    }
   ],
   "source": [
    "data['annual_inc'].describe().astype(int)"
   ]
  },
  {
   "cell_type": "code",
   "execution_count": 34,
   "metadata": {},
   "outputs": [
    {
     "data": {
      "text/plain": [
       "5.275648123592321"
      ]
     },
     "execution_count": 34,
     "metadata": {},
     "output_type": "execute_result"
    }
   ],
   "source": [
    "stats.skew(data['annual_inc'])"
   ]
  },
  {
   "cell_type": "code",
   "execution_count": 35,
   "metadata": {},
   "outputs": [
    {
     "data": {
      "text/plain": [
       "66.72665803201564"
      ]
     },
     "execution_count": 35,
     "metadata": {},
     "output_type": "execute_result"
    }
   ],
   "source": [
    "stats.kurtosis(data['annual_inc'])"
   ]
  },
  {
   "cell_type": "code",
   "execution_count": 36,
   "metadata": {},
   "outputs": [
    {
     "data": {
      "text/plain": [
       "0"
      ]
     },
     "execution_count": 36,
     "metadata": {},
     "output_type": "execute_result"
    }
   ],
   "source": [
    "data['annual_inc'].isnull().sum()"
   ]
  },
  {
   "cell_type": "markdown",
   "metadata": {},
   "source": [
    "* 'grade"
   ]
  },
  {
   "cell_type": "code",
   "execution_count": 37,
   "metadata": {},
   "outputs": [
    {
     "data": {
      "image/png": "[encoded data removed]",
      "text/plain": [
       "<Figure size 432x288 with 1 Axes>"
      ]
     },
     "metadata": {
      "needs_background": "light"
     },
     "output_type": "display_data"
    }
   ],
   "source": [
    "data['grade'].value_counts().plot.bar(color='slategray', rot=0)\n",
    "\n",
    "plt.title('Loan grades')\n",
    "plt.xlabel('Grades')\n",
    "plt.ylabel('Frequence')\n",
    "plt.show()"
   ]
  },
  {
   "cell_type": "code",
   "execution_count": 38,
   "metadata": {},
   "outputs": [
    {
     "name": "stdout",
     "output_type": "stream",
     "text": [
      "For the attribute grade:\n",
      "\n",
      "\n",
      "Number of unique values: 7\n",
      "Unique values: B, C, D, A, E, F, G\n",
      "Top 3 unique values: B, C, D\n",
      "\n",
      "\n",
      "B    6042\n",
      "C    5566\n",
      "D    3554\n",
      "A    2159\n",
      "E    1645\n",
      "F     865\n",
      "G     169\n",
      "Name: grade, dtype: int64\n",
      "\n",
      "\n",
      "The mode of the grade attribute is: B\n"
     ]
    }
   ],
   "source": [
    "counts = data['grade'].value_counts()\n",
    "moda = data['grade'].mode().iloc[0]\n",
    "\n",
    "print('For the attribute grade:')\n",
    "print('\\n')\n",
    "print('Number of unique values:', len(counts))\n",
    "print('Unique values:', ', '.join(counts.index))\n",
    "print('Top 3 unique values:', ', '.join(counts[:3].index))\n",
    "print('\\n')\n",
    "print(counts)\n",
    "print('\\n')\n",
    "print(F'The mode of the grade attribute is: {moda}')"
   ]
  },
  {
   "cell_type": "code",
   "execution_count": null,
   "metadata": {},
   "outputs": [],
   "source": []
  },
  {
   "cell_type": "markdown",
   "metadata": {},
   "source": [
    "# EXERCISE 4"
   ]
  },
  {
   "cell_type": "markdown",
   "metadata": {},
   "source": [
    "4.1. What are the two most correlated numerical features (Spearman) - absolute number?   \n",
    "4.2. What is the numerical feature most correlated with the target (Pearson)?  "
   ]
  },
  {
   "cell_type": "code",
   "execution_count": 39,
   "metadata": {},
   "outputs": [],
   "source": [
    "data_numeric = data.filter(['annual_inc',\n",
    "                           'emp_length_num',\n",
    "                           'dti',\n",
    "                           'revol_util',\n",
    "                           'total_rec_late_fee',\n",
    "                           'od_ratio',\n",
    "                           'bad_loan'], axis = 1)"
   ]
  },
  {
   "cell_type": "markdown",
   "metadata": {},
   "source": [
    "# 4.1.\n",
    "\n",
    "What are the two most correlated numerical features (Spearman) - absolute number? "
   ]
  },
  {
   "cell_type": "code",
   "execution_count": 43,
   "metadata": {},
   "outputs": [],
   "source": [
    "data_numeric_corr_spearman = data_numeric.corr(method='spearman')"
   ]
  },
  {
   "cell_type": "code",
   "execution_count": 44,
   "metadata": {},
   "outputs": [],
   "source": [
    "mask = np.zeros_like(data_numeric_corr_spearman)\n",
    "mask[np.triu_indices_from(mask)] = True"
   ]
  },
  {
   "cell_type": "code",
   "execution_count": 45,
   "metadata": {},
   "outputs": [
    {
     "data": {
      "image/png": "[encoded data removed]",
      "text/plain": [
       "<Figure size 720x576 with 2 Axes>"
      ]
     },
     "metadata": {
      "needs_background": "light"
     },
     "output_type": "display_data"
    }
   ],
   "source": [
    "plt.figure(figsize=(10, 8))\n",
    "\n",
    "sns.heatmap(\n",
    "    data_numeric_corr_spearman.iloc[1:, :-1],\n",
    "    mask=mask[1:, :-1],\n",
    "    vmin=-1, vmax=1, cmap=\"coolwarm\", square=True, annot=True\n",
    ");\n",
    "\n",
    "plt.title('Numeric Attributes - Spearman correlation')\n",
    "plt.show()"
   ]
  },
  {
   "cell_type": "markdown",
   "metadata": {},
   "source": [
    "# Answer\n",
    "\n",
    "The two most correlated features are 'dti' and 'annual_inc' with a negative correlation of -0.22"
   ]
  },
  {
   "cell_type": "markdown",
   "metadata": {},
   "source": [
    "# 4.2. \n",
    "\n",
    "What is the numerical feature most correlated with the target (Pearson)?"
   ]
  },
  {
   "cell_type": "code",
   "execution_count": 46,
   "metadata": {},
   "outputs": [],
   "source": [
    "data_numeric_corr_pearson = data_numeric.corr(method='pearson')"
   ]
  },
  {
   "cell_type": "code",
   "execution_count": 47,
   "metadata": {},
   "outputs": [],
   "source": [
    "mask = np.zeros_like(data_numeric_corr_pearson)\n",
    "mask[np.triu_indices_from(mask)] = True"
   ]
  },
  {
   "cell_type": "code",
   "execution_count": 48,
   "metadata": {},
   "outputs": [
    {
     "data": {
      "image/png": "[encoded data removed]",
      "text/plain": [
       "<Figure size 720x576 with 2 Axes>"
      ]
     },
     "metadata": {
      "needs_background": "light"
     },
     "output_type": "display_data"
    }
   ],
   "source": [
    "plt.figure(figsize=(10, 8))\n",
    "\n",
    "sns.heatmap(\n",
    "    data_numeric_corr_pearson.iloc[1:, :-1],\n",
    "    mask=mask[1:, :-1],\n",
    "    vmin=-1, vmax=1, cmap=\"coolwarm\", square=True, annot=True\n",
    ");\n",
    "\n",
    "plt.title('Numeric Attributes - Pearson correlation')\n",
    "plt.show()"
   ]
  },
  {
   "cell_type": "markdown",
   "metadata": {},
   "source": [
    "# Answer \n",
    "The attribute more correlated to the target 'bad_loan' is 'dti' with a correlation of 0.14"
   ]
  },
  {
   "cell_type": "code",
   "execution_count": null,
   "metadata": {},
   "outputs": [],
   "source": []
  },
  {
   "cell_type": "markdown",
   "metadata": {},
   "source": [
    "# EXERCISE 5"
   ]
  },
  {
   "cell_type": "markdown",
   "metadata": {},
   "source": [
    "# 5. \n",
    "Are there any **outliers**? If there are, solved them. **Justify** all detected outliers, and **justify** the method you chose to eliminate. "
   ]
  },
  {
   "cell_type": "code",
   "execution_count": 49,
   "metadata": {},
   "outputs": [
    {
     "data": {
      "image/png": "[encoded data removed]",
      "text/plain": [
       "<Figure size 1440x288 with 1 Axes>"
      ]
     },
     "metadata": {
      "needs_background": "light"
     },
     "output_type": "display_data"
    },
    {
     "data": {
      "image/png": "[encoded data removed]",
      "text/plain": [
       "<Figure size 1440x288 with 1 Axes>"
      ]
     },
     "metadata": {
      "needs_background": "light"
     },
     "output_type": "display_data"
    },
    {
     "data": {
      "image/png": "[encoded data removed]",
      "text/plain": [
       "<Figure size 1440x288 with 1 Axes>"
      ]
     },
     "metadata": {
      "needs_background": "light"
     },
     "output_type": "display_data"
    },
    {
     "data": {
      "image/png": "[encoded data removed]",
      "text/plain": [
       "<Figure size 1440x288 with 1 Axes>"
      ]
     },
     "metadata": {
      "needs_background": "light"
     },
     "output_type": "display_data"
    },
    {
     "data": {
      "image/png": "[encoded data removed]",
      "text/plain": [
       "<Figure size 1440x288 with 1 Axes>"
      ]
     },
     "metadata": {
      "needs_background": "light"
     },
     "output_type": "display_data"
    },
    {
     "data": {
      "image/png": "[encoded data removed]",
      "text/plain": [
       "<Figure size 1440x288 with 1 Axes>"
      ]
     },
     "metadata": {
      "needs_background": "light"
     },
     "output_type": "display_data"
    }
   ],
   "source": [
    "# lets look at some boxplots\n",
    "\n",
    "i = 1\n",
    "for col in data_numeric:\n",
    "    if col != 'bad_loan':\n",
    "        fig = plt.figure(figsize=(20, 4))\n",
    "        fig.add_subplot(1, data_numeric.shape[1], i)\n",
    "        sns.boxplot(x='bad_loan', y=col, data=data_numeric)\n",
    "\n",
    "        plt.title(col)\n",
    "        plt.show()\n",
    "    i=i+1"
   ]
  },
  {
   "cell_type": "markdown",
   "metadata": {},
   "source": [
    "Through the observation of the boxplot we can see that the features potentialy containing outliers are 'annual_inc', 'revol_util' and 'total_rec_late_fee'. So we need to investigate a bit further using histograms to observe the destribution of the observation in these features"
   ]
  },
  {
   "cell_type": "code",
   "execution_count": 50,
   "metadata": {},
   "outputs": [
    {
     "data": {
      "image/png": "[encoded data removed]",
      "text/plain": [
       "<Figure size 413.125x360 with 1 Axes>"
      ]
     },
     "metadata": {
      "needs_background": "light"
     },
     "output_type": "display_data"
    },
    {
     "data": {
      "image/png": "[encoded data removed]",
      "text/plain": [
       "<Figure size 413.125x360 with 1 Axes>"
      ]
     },
     "metadata": {
      "needs_background": "light"
     },
     "output_type": "display_data"
    },
    {
     "data": {
      "image/png": "[encoded data removed]",
      "text/plain": [
       "<Figure size 413.125x360 with 1 Axes>"
      ]
     },
     "metadata": {
      "needs_background": "light"
     },
     "output_type": "display_data"
    }
   ],
   "source": [
    "sns.displot(data=data, x=\"annual_inc\", bins=100, hue=\"bad_loan\", rug=True, kde=False, lw=0, alpha=0.3)\n",
    "sns.displot(data=data, x=\"revol_util\", bins=100, hue=\"bad_loan\", rug=True, kde=False, lw=0, alpha=0.3)\n",
    "sns.displot(data=data, x=\"total_rec_late_fee\", bins=100, hue=\"bad_loan\", rug=True, kde=False, lw=0, alpha=0.3)\n",
    "\n",
    "plt.show()"
   ]
  },
  {
   "cell_type": "markdown",
   "metadata": {},
   "source": [
    "We're gonna recrut the help of a function to assist in detecting outliers based on the number of standart deviation above of under the mean"
   ]
  },
  {
   "cell_type": "code",
   "execution_count": 51,
   "metadata": {},
   "outputs": [
    {
     "name": "stdout",
     "output_type": "stream",
     "text": [
      "### annual_inc ###\n",
      "Outliers beyond 2std of mean: 615\n",
      "lower_bound=-17047.6; upper_bound=163746.7\n",
      "\n",
      "Outliers beyond 3std of mean: 259\n",
      "lower_bound=-62246.1; upper_bound=208945.3\n",
      "\n",
      "### revol_util ###\n",
      "Outliers beyond 2std of mean: 1\n",
      "lower_bound=-28.3; upper_bound=140.2\n",
      "\n",
      "Outliers beyond 3std of mean: 1\n",
      "lower_bound=-70.4; upper_bound=182.3\n",
      "\n",
      "### total_rec_late_fee ###\n",
      "Outliers beyond 2std of mean: 227\n",
      "lower_bound=-5.9; upper_bound=6.5\n",
      "\n",
      "Outliers beyond 3std of mean: 227\n",
      "lower_bound=-9.0; upper_bound=9.6\n",
      "\n"
     ]
    }
   ],
   "source": [
    "def potential_outliers(x, n_std):\n",
    "    mean = x.mean()\n",
    "    std = x.std()\n",
    "\n",
    "    upper_bound = mean + n_std * std\n",
    "    lower_bound = mean - n_std * std\n",
    "\n",
    "    n_outliers = sum(x < lower_bound) + sum(x > upper_bound)\n",
    "    \n",
    "    print(f\"Outliers beyond {n_std}std of mean:\", n_outliers)\n",
    "    print(f\"lower_bound={lower_bound:2.1f}; upper_bound={upper_bound:2.1f}\")\n",
    "    return n_outliers\n",
    "\n",
    "print('### annual_inc ###')\n",
    "potential_outliers(data['annual_inc'], 2)\n",
    "print()\n",
    "potential_outliers(data['annual_inc'], 3)\n",
    "print()\n",
    "\n",
    "print('### revol_util ###')\n",
    "potential_outliers(data['revol_util'], 2)\n",
    "print()\n",
    "potential_outliers(data['revol_util'], 3)\n",
    "print()\n",
    "\n",
    "print('### total_rec_late_fee ###')\n",
    "potential_outliers(data['total_rec_late_fee'], 2)\n",
    "print()\n",
    "potential_outliers(data['total_rec_late_fee'], 3)\n",
    "print()"
   ]
  },
  {
   "cell_type": "markdown",
   "metadata": {},
   "source": [
    "First we're going to adress the easier. The feature 'revol_util' clearly displays and outliers and so we need to identify it and replace it by the feature median\n"
   ]
  },
  {
   "cell_type": "code",
   "execution_count": 52,
   "metadata": {},
   "outputs": [
    {
     "data": {
      "text/html": [
       "<div>\n",
       "<style scoped>\n",
       "    .dataframe tbody tr th:only-of-type {\n",
       "        vertical-align: middle;\n",
       "    }\n",
       "\n",
       "    .dataframe tbody tr th {\n",
       "        vertical-align: top;\n",
       "    }\n",
       "\n",
       "    .dataframe thead th {\n",
       "        text-align: right;\n",
       "    }\n",
       "</style>\n",
       "<table border=\"1\" class=\"dataframe\">\n",
       "  <thead>\n",
       "    <tr style=\"text-align: right;\">\n",
       "      <th></th>\n",
       "      <th>id</th>\n",
       "      <th>grade</th>\n",
       "      <th>annual_inc</th>\n",
       "      <th>short_emp</th>\n",
       "      <th>emp_length_num</th>\n",
       "      <th>home_ownership</th>\n",
       "      <th>dti</th>\n",
       "      <th>purpose</th>\n",
       "      <th>term</th>\n",
       "      <th>last_delinq_none</th>\n",
       "      <th>last_major_derog_none</th>\n",
       "      <th>revol_util</th>\n",
       "      <th>total_rec_late_fee</th>\n",
       "      <th>od_ratio</th>\n",
       "      <th>bad_loan</th>\n",
       "    </tr>\n",
       "  </thead>\n",
       "  <tbody>\n",
       "    <tr>\n",
       "      <th>100</th>\n",
       "      <td>10099081</td>\n",
       "      <td>C</td>\n",
       "      <td>75000.0</td>\n",
       "      <td>0</td>\n",
       "      <td>7</td>\n",
       "      <td>MORTGAGE</td>\n",
       "      <td>9.04</td>\n",
       "      <td>debt_consolidation</td>\n",
       "      <td>36 Months</td>\n",
       "      <td>1</td>\n",
       "      <td>NaN</td>\n",
       "      <td>5010.0</td>\n",
       "      <td>0.0</td>\n",
       "      <td>0.159584</td>\n",
       "      <td>0</td>\n",
       "    </tr>\n",
       "  </tbody>\n",
       "</table>\n",
       "</div>"
      ],
      "text/plain": [
       "           id grade  annual_inc  short_emp  emp_length_num home_ownership  \\\n",
       "100  10099081     C     75000.0          0               7       MORTGAGE   \n",
       "\n",
       "      dti             purpose        term  last_delinq_none  \\\n",
       "100  9.04  debt_consolidation   36 Months                 1   \n",
       "\n",
       "     last_major_derog_none  revol_util  total_rec_late_fee  od_ratio  bad_loan  \n",
       "100                    NaN      5010.0                 0.0  0.159584         0  "
      ]
     },
     "execution_count": 52,
     "metadata": {},
     "output_type": "execute_result"
    }
   ],
   "source": [
    "data.loc[data['revol_util']>5000]"
   ]
  },
  {
   "cell_type": "code",
   "execution_count": 53,
   "metadata": {},
   "outputs": [],
   "source": [
    "data.loc[100, 'revol_util'] = data['revol_util'].median()"
   ]
  },
  {
   "cell_type": "code",
   "execution_count": 54,
   "metadata": {},
   "outputs": [
    {
     "data": {
      "text/plain": [
       "count    20000.000000\n",
       "mean        55.710503\n",
       "std         23.380140\n",
       "min          0.000000\n",
       "25%         38.800000\n",
       "50%         57.100000\n",
       "75%         73.900000\n",
       "max        128.100000\n",
       "Name: revol_util, dtype: float64"
      ]
     },
     "execution_count": 54,
     "metadata": {},
     "output_type": "execute_result"
    }
   ],
   "source": [
    "data['revol_util'].describe()"
   ]
  },
  {
   "cell_type": "code",
   "execution_count": 55,
   "metadata": {},
   "outputs": [
    {
     "data": {
      "image/png": "[encoded data removed]",
      "text/plain": [
       "<Figure size 413.125x360 with 1 Axes>"
      ]
     },
     "metadata": {
      "needs_background": "light"
     },
     "output_type": "display_data"
    }
   ],
   "source": [
    "sns.displot(data=data, x='revol_util', bins=100, hue='bad_loan', rug=True, kde=False, lw=0, alpha=0.3)\n",
    "plt.show()"
   ]
  },
  {
   "cell_type": "markdown",
   "metadata": {},
   "source": [
    "Without the outliers the destribution of 'revol_util' seems almost normal"
   ]
  },
  {
   "cell_type": "markdown",
   "metadata": {},
   "source": [
    "Lets observe the other feature with potential outliers"
   ]
  },
  {
   "cell_type": "code",
   "execution_count": 56,
   "metadata": {},
   "outputs": [],
   "source": [
    "data['annual_inc_log'] = np.log(data['annual_inc'])"
   ]
  },
  {
   "cell_type": "code",
   "execution_count": 57,
   "metadata": {},
   "outputs": [],
   "source": [
    "#data.head()"
   ]
  },
  {
   "cell_type": "code",
   "execution_count": 58,
   "metadata": {},
   "outputs": [
    {
     "data": {
      "image/png": "[encoded data removed]",
      "text/plain": [
       "<Figure size 413.125x360 with 1 Axes>"
      ]
     },
     "metadata": {
      "needs_background": "light"
     },
     "output_type": "display_data"
    }
   ],
   "source": [
    "sns.displot(data=data, x=\"annual_inc_log\", bins=50, hue=\"bad_loan\", rug=True, kde=False, lw=0, alpha=0.3)\n",
    "plt.show()"
   ]
  },
  {
   "cell_type": "code",
   "execution_count": 59,
   "metadata": {},
   "outputs": [],
   "source": [
    "data['total_rec_late_fee_squareroot'] = data['total_rec_late_fee']**(1/2)"
   ]
  },
  {
   "cell_type": "code",
   "execution_count": 60,
   "metadata": {},
   "outputs": [
    {
     "data": {
      "image/png": "[encoded data removed]",
      "text/plain": [
       "<Figure size 413.125x360 with 1 Axes>"
      ]
     },
     "metadata": {
      "needs_background": "light"
     },
     "output_type": "display_data"
    }
   ],
   "source": [
    "sns.displot(data=data, x=\"total_rec_late_fee_squareroot\", bins=50, hue=\"bad_loan\", rug=True, kde=False, lw=0, alpha=0.3)\n",
    "plt.show()"
   ]
  },
  {
   "cell_type": "markdown",
   "metadata": {},
   "source": [
    "# Answer:\n",
    "\n",
    "The feature 'revol_util' clearly displays an outlier.\n",
    "\n",
    "For the other two features even in more conservative estimation (3 standart deviation from the mean) around 12% of the observation would be considered outliers and thus removed or altered. Two scenarios need to be considered:\n",
    "1- keep all observation and build a more global model or;\n",
    "2- separate the observation and build two models, onde for the general data and other for the more extreme observations.\n",
    "\n",
    "However, to access if those observation were trully outliers we can either transform into logarithms or transform using the square/cubic root.\n",
    "\n",
    "The logarithm transformation of the 'annual_inc' feature showed that the potential outliers are just extreme observation and that the feature follows a normal destribution, therefore it is recommended to keep the observations.\n",
    "\n",
    "The logarithm of the 'total_rec_late_fee' is not possible due to a high amount of zeros so we can transform with the square/cubic-root but wihout improvements. The destribution plot of the transformed feature showed a mainly amount of class default (bad_loans) as \"outliers\". Because we're facing a binary classification of a minority class and these outliers are  belong mainly to the minority class we decided to keep the observations."
   ]
  },
  {
   "cell_type": "code",
   "execution_count": null,
   "metadata": {},
   "outputs": [],
   "source": []
  },
  {
   "cell_type": "markdown",
   "metadata": {},
   "source": [
    "# EXERCISE 6"
   ]
  },
  {
   "cell_type": "markdown",
   "metadata": {},
   "source": [
    "# 6. \n",
    "Deal with the **missing values**, along with anomalies. Detect and transform or eliminate them. Remember: not all missing values are represented by a `np.nan`."
   ]
  },
  {
   "cell_type": "code",
   "execution_count": 61,
   "metadata": {},
   "outputs": [
    {
     "data": {
      "text/plain": [
       "id                                   0\n",
       "grade                                0\n",
       "annual_inc                           0\n",
       "short_emp                            0\n",
       "emp_length_num                       0\n",
       "home_ownership                    1491\n",
       "dti                                154\n",
       "purpose                              0\n",
       "term                                 0\n",
       "last_delinq_none                     0\n",
       "last_major_derog_none            19426\n",
       "revol_util                           0\n",
       "total_rec_late_fee                   0\n",
       "od_ratio                             0\n",
       "bad_loan                             0\n",
       "annual_inc_log                       0\n",
       "total_rec_late_fee_squareroot        0\n",
       "dtype: int64"
      ]
     },
     "execution_count": 61,
     "metadata": {},
     "output_type": "execute_result"
    }
   ],
   "source": [
    "data.isnull().sum()"
   ]
  },
  {
   "cell_type": "markdown",
   "metadata": {},
   "source": [
    "* 'last_major_derog_none'"
   ]
  },
  {
   "cell_type": "code",
   "execution_count": 62,
   "metadata": {},
   "outputs": [
    {
     "data": {
      "text/plain": [
       "0       NaN\n",
       "1       NaN\n",
       "2       NaN\n",
       "3       NaN\n",
       "4       NaN\n",
       "         ..\n",
       "19995   NaN\n",
       "19996   NaN\n",
       "19997   NaN\n",
       "19998   NaN\n",
       "19999   NaN\n",
       "Name: last_major_derog_none, Length: 20000, dtype: float64"
      ]
     },
     "execution_count": 62,
     "metadata": {},
     "output_type": "execute_result"
    }
   ],
   "source": [
    "data['last_major_derog_none']"
   ]
  },
  {
   "cell_type": "markdown",
   "metadata": {},
   "source": [
    "'last_major_derog_none' shows 19426 null observation. If we read the documentation we can see that this feature have 1 if the client has at least 90 days of bad ratings with no more information supplied. So it is possible that the data is imcomplete or if the client does not have more than 90 of bad rating the field is left empty and thus displaying null values.\n",
    "\n",
    "Therefore we can: 1) remove the feature or 2) replace the null values with 0 since we can interpret the lack of information as the client never had more than 90 of bad ratings.\n",
    "\n",
    "For the exercice we are gonna assume the 2)"
   ]
  },
  {
   "cell_type": "code",
   "execution_count": 63,
   "metadata": {},
   "outputs": [],
   "source": [
    "data['last_major_derog_none'] = data['last_major_derog_none'].replace(np.NaN, 0)"
   ]
  },
  {
   "cell_type": "code",
   "execution_count": 64,
   "metadata": {},
   "outputs": [],
   "source": [
    "#data.isnull().sum()"
   ]
  },
  {
   "cell_type": "markdown",
   "metadata": {},
   "source": [
    "* 'dti'"
   ]
  },
  {
   "cell_type": "code",
   "execution_count": 65,
   "metadata": {},
   "outputs": [
    {
     "data": {
      "image/png": "[encoded data removed]",
      "text/plain": [
       "<Figure size 413.125x360 with 1 Axes>"
      ]
     },
     "metadata": {
      "needs_background": "light"
     },
     "output_type": "display_data"
    }
   ],
   "source": [
    "sns.displot(data=data, x=\"dti\", bins=100, hue=\"bad_loan\", rug=True, kde=False, lw=0, alpha=0.3)\n",
    "plt.show()"
   ]
  },
  {
   "cell_type": "code",
   "execution_count": 66,
   "metadata": {},
   "outputs": [
    {
     "name": "stdout",
     "output_type": "stream",
     "text": [
      "16.19\n",
      "16.58784137861534\n"
     ]
    }
   ],
   "source": [
    "print(data['dti'].median())\n",
    "print(data['dti'].mean())"
   ]
  },
  {
   "cell_type": "markdown",
   "metadata": {},
   "source": [
    "We can observe that the mean and median are very close\n",
    "\n",
    "But if we group the 'dti' by 'grade' and 'purpose'?"
   ]
  },
  {
   "cell_type": "code",
   "execution_count": 67,
   "metadata": {},
   "outputs": [
    {
     "data": {
      "text/plain": [
       "grade  purpose           \n",
       "A      car                   10.860\n",
       "       credit_card           14.140\n",
       "       debt_consolidation    14.490\n",
       "       home_improvement       9.470\n",
       "       house                  8.310\n",
       "                              ...  \n",
       "G      medical               12.880\n",
       "       moving                28.780\n",
       "       other                 16.010\n",
       "       small_business        14.380\n",
       "       wedding               24.595\n",
       "Name: dti, Length: 80, dtype: float64"
      ]
     },
     "execution_count": 67,
     "metadata": {},
     "output_type": "execute_result"
    }
   ],
   "source": [
    "data.groupby(['grade', 'purpose'])['dti'].median()"
   ]
  },
  {
   "cell_type": "markdown",
   "metadata": {},
   "source": [
    "We can observe that the median values are very different according with the groupby. So we are goin to use the median of these groupby to impute the missing values."
   ]
  },
  {
   "cell_type": "code",
   "execution_count": 68,
   "metadata": {},
   "outputs": [],
   "source": [
    "data['dti'] = data.groupby(['grade','purpose'], sort=False)['dti'].apply(lambda x: x.fillna(x.median()))"
   ]
  },
  {
   "cell_type": "code",
   "execution_count": 69,
   "metadata": {},
   "outputs": [
    {
     "data": {
      "text/plain": [
       "0"
      ]
     },
     "execution_count": 69,
     "metadata": {},
     "output_type": "execute_result"
    }
   ],
   "source": [
    "data['dti'].isnull().sum()"
   ]
  },
  {
   "cell_type": "code",
   "execution_count": 70,
   "metadata": {},
   "outputs": [
    {
     "data": {
      "image/png": "[encoded data removed]",
      "text/plain": [
       "<Figure size 413.125x360 with 1 Axes>"
      ]
     },
     "metadata": {
      "needs_background": "light"
     },
     "output_type": "display_data"
    }
   ],
   "source": [
    "sns.displot(data=data, x=\"dti\", bins=100, hue=\"bad_loan\", rug=True, kde=False, lw=0, alpha=0.3)\n",
    "plt.show()"
   ]
  },
  {
   "cell_type": "code",
   "execution_count": 71,
   "metadata": {},
   "outputs": [
    {
     "name": "stdout",
     "output_type": "stream",
     "text": [
      "16.19\n",
      "16.584883249999997\n"
     ]
    }
   ],
   "source": [
    "print(data['dti'].median())\n",
    "print(data['dti'].mean())"
   ]
  },
  {
   "cell_type": "markdown",
   "metadata": {},
   "source": [
    "by using this groupby we did not alter the mean, median or the destribution."
   ]
  },
  {
   "cell_type": "markdown",
   "metadata": {},
   "source": [
    "* 'home_ownership'"
   ]
  },
  {
   "cell_type": "code",
   "execution_count": 72,
   "metadata": {},
   "outputs": [
    {
     "data": {
      "text/plain": [
       "1491"
      ]
     },
     "execution_count": 72,
     "metadata": {},
     "output_type": "execute_result"
    }
   ],
   "source": [
    "data['home_ownership'].isnull().sum()"
   ]
  },
  {
   "cell_type": "code",
   "execution_count": 73,
   "metadata": {},
   "outputs": [
    {
     "data": {
      "image/png": "[encoded data removed]",
      "text/plain": [
       "<Figure size 413.125x360 with 1 Axes>"
      ]
     },
     "metadata": {
      "needs_background": "light"
     },
     "output_type": "display_data"
    }
   ],
   "source": [
    "sns.displot(data=data, x=\"home_ownership\", bins=50, hue=\"bad_loan\", rug=True, kde=False, lw=0, alpha=0.3)\n",
    "plt.show()"
   ]
  },
  {
   "cell_type": "code",
   "execution_count": 74,
   "metadata": {},
   "outputs": [
    {
     "data": {
      "text/plain": [
       "home_ownership  bad_loan\n",
       "MORTGAGE        0           8136\n",
       "                1           1708\n",
       "OWN             0           1297\n",
       "                1            316\n",
       "RENT            0           5368\n",
       "                1           1684\n",
       "Name: bad_loan, dtype: int64"
      ]
     },
     "execution_count": 74,
     "metadata": {},
     "output_type": "execute_result"
    }
   ],
   "source": [
    "data.groupby('home_ownership')['bad_loan'].value_counts()"
   ]
  },
  {
   "cell_type": "code",
   "execution_count": 75,
   "metadata": {},
   "outputs": [
    {
     "data": {
      "text/plain": [
       "0    MORTGAGE\n",
       "dtype: object"
      ]
     },
     "execution_count": 75,
     "metadata": {},
     "output_type": "execute_result"
    }
   ],
   "source": [
    "data['home_ownership'].mode()"
   ]
  },
  {
   "cell_type": "markdown",
   "metadata": {},
   "source": [
    "We could replace the 1491 missing values with the mode, MORTGAGE, however this could potentialy create a bias in the data. So let's use the groupby method again"
   ]
  },
  {
   "cell_type": "code",
   "execution_count": 76,
   "metadata": {},
   "outputs": [
    {
     "data": {
      "text/plain": [
       "grade  purpose         home_ownership\n",
       "A      car             MORTGAGE           15\n",
       "                       RENT               12\n",
       "                       OWN                 7\n",
       "       credit_card     MORTGAGE          368\n",
       "                       RENT              148\n",
       "                                        ... \n",
       "G      small_business  MORTGAGE           10\n",
       "                       RENT                6\n",
       "                       OWN                 2\n",
       "       wedding         OWN                 1\n",
       "                       RENT                1\n",
       "Name: home_ownership, Length: 218, dtype: int64"
      ]
     },
     "execution_count": 76,
     "metadata": {},
     "output_type": "execute_result"
    }
   ],
   "source": [
    "data.groupby(['grade', 'purpose'])['home_ownership'].value_counts()"
   ]
  },
  {
   "cell_type": "markdown",
   "metadata": {},
   "source": [
    "We can see that the values counts of the groupby are very different so lets impute the missing values with the mode of the groupby"
   ]
  },
  {
   "cell_type": "code",
   "execution_count": 77,
   "metadata": {},
   "outputs": [],
   "source": [
    "data['home_ownership'] = data.groupby(['grade','purpose'], sort=False)['home_ownership'].apply(lambda x: x.fillna(x.mode().iloc[0]))"
   ]
  },
  {
   "cell_type": "code",
   "execution_count": 78,
   "metadata": {},
   "outputs": [
    {
     "data": {
      "text/plain": [
       "0"
      ]
     },
     "execution_count": 78,
     "metadata": {},
     "output_type": "execute_result"
    }
   ],
   "source": [
    "data['home_ownership'].isnull().sum()"
   ]
  },
  {
   "cell_type": "code",
   "execution_count": 79,
   "metadata": {},
   "outputs": [
    {
     "data": {
      "text/plain": [
       "home_ownership  bad_loan\n",
       "MORTGAGE        0           9229\n",
       "                1           1939\n",
       "OWN             0           1297\n",
       "                1            316\n",
       "RENT            0           5474\n",
       "                1           1745\n",
       "Name: bad_loan, dtype: int64"
      ]
     },
     "execution_count": 79,
     "metadata": {},
     "output_type": "execute_result"
    }
   ],
   "source": [
    "data.groupby('home_ownership')['bad_loan'].value_counts()"
   ]
  },
  {
   "cell_type": "code",
   "execution_count": 80,
   "metadata": {},
   "outputs": [
    {
     "data": {
      "image/png": "[encoded data removed]",
      "text/plain": [
       "<Figure size 413.125x360 with 1 Axes>"
      ]
     },
     "metadata": {
      "needs_background": "light"
     },
     "output_type": "display_data"
    }
   ],
   "source": [
    "sns.displot(data=data, x=\"home_ownership\", bins=50, hue=\"bad_loan\", rug=True, kde=False, lw=0, alpha=0.3)\n",
    "plt.show()"
   ]
  },
  {
   "cell_type": "markdown",
   "metadata": {},
   "source": [
    "By using the groupby method only 1000 observation were added to MORTGAGE, potentialy reducing the bias"
   ]
  },
  {
   "cell_type": "markdown",
   "metadata": {},
   "source": [
    "* 'term'"
   ]
  },
  {
   "cell_type": "markdown",
   "metadata": {},
   "source": [
    "Other anormaly was detected in the feature 'term' where a possible mistake was made in the 36 monts or Months. For consistency we are chaing to lower case"
   ]
  },
  {
   "cell_type": "code",
   "execution_count": 81,
   "metadata": {},
   "outputs": [],
   "source": [
    "data['term'] = data['term'].str.lower()"
   ]
  },
  {
   "cell_type": "code",
   "execution_count": 82,
   "metadata": {},
   "outputs": [
    {
     "data": {
      "text/plain": [
       " 36 months    15001\n",
       " 60 months     4999\n",
       "Name: term, dtype: int64"
      ]
     },
     "execution_count": 82,
     "metadata": {},
     "output_type": "execute_result"
    }
   ],
   "source": [
    "data['term'].value_counts()"
   ]
  },
  {
   "cell_type": "markdown",
   "metadata": {},
   "source": [
    "* 'revol_util'"
   ]
  },
  {
   "cell_type": "markdown",
   "metadata": {},
   "source": [
    "The outliers detected in this feature was dealt with in exercise 5"
   ]
  },
  {
   "cell_type": "code",
   "execution_count": null,
   "metadata": {},
   "outputs": [],
   "source": []
  },
  {
   "cell_type": "markdown",
   "metadata": {},
   "source": [
    "# EXERCISE 7"
   ]
  },
  {
   "cell_type": "markdown",
   "metadata": {},
   "source": [
    "# 7.1. \n",
    "Select at least two numerical features to drop. Justify the method(s) you used, and why you chose those variables. (Note: you can drop more variables, either categorical or numerical)"
   ]
  },
  {
   "cell_type": "markdown",
   "metadata": {},
   "source": [
    "Two tecnhiques are used to discard numeric features: 1) Variance threshold and 2) Pearson correlation with target feature\n",
    "\n",
    "Lets take a look at both methods\n",
    "\n",
    "We need to separate the numeric features first"
   ]
  },
  {
   "cell_type": "code",
   "execution_count": 83,
   "metadata": {},
   "outputs": [],
   "source": [
    "data_numeric = data.select_dtypes(include='number')"
   ]
  },
  {
   "cell_type": "code",
   "execution_count": 84,
   "metadata": {},
   "outputs": [
    {
     "data": {
      "text/html": [
       "<div>\n",
       "<style scoped>\n",
       "    .dataframe tbody tr th:only-of-type {\n",
       "        vertical-align: middle;\n",
       "    }\n",
       "\n",
       "    .dataframe tbody tr th {\n",
       "        vertical-align: top;\n",
       "    }\n",
       "\n",
       "    .dataframe thead th {\n",
       "        text-align: right;\n",
       "    }\n",
       "</style>\n",
       "<table border=\"1\" class=\"dataframe\">\n",
       "  <thead>\n",
       "    <tr style=\"text-align: right;\">\n",
       "      <th></th>\n",
       "      <th>id</th>\n",
       "      <th>annual_inc</th>\n",
       "      <th>short_emp</th>\n",
       "      <th>emp_length_num</th>\n",
       "      <th>dti</th>\n",
       "      <th>last_delinq_none</th>\n",
       "      <th>last_major_derog_none</th>\n",
       "      <th>revol_util</th>\n",
       "      <th>total_rec_late_fee</th>\n",
       "      <th>od_ratio</th>\n",
       "      <th>bad_loan</th>\n",
       "      <th>annual_inc_log</th>\n",
       "      <th>total_rec_late_fee_squareroot</th>\n",
       "    </tr>\n",
       "  </thead>\n",
       "  <tbody>\n",
       "    <tr>\n",
       "      <th>0</th>\n",
       "      <td>11454641</td>\n",
       "      <td>100000.0</td>\n",
       "      <td>1</td>\n",
       "      <td>1</td>\n",
       "      <td>26.27</td>\n",
       "      <td>1</td>\n",
       "      <td>0.0</td>\n",
       "      <td>43.2</td>\n",
       "      <td>0.0</td>\n",
       "      <td>0.160624</td>\n",
       "      <td>0</td>\n",
       "      <td>11.512925</td>\n",
       "      <td>0.0</td>\n",
       "    </tr>\n",
       "    <tr>\n",
       "      <th>1</th>\n",
       "      <td>9604874</td>\n",
       "      <td>83000.0</td>\n",
       "      <td>0</td>\n",
       "      <td>4</td>\n",
       "      <td>5.39</td>\n",
       "      <td>0</td>\n",
       "      <td>0.0</td>\n",
       "      <td>21.5</td>\n",
       "      <td>0.0</td>\n",
       "      <td>0.810777</td>\n",
       "      <td>0</td>\n",
       "      <td>11.326596</td>\n",
       "      <td>0.0</td>\n",
       "    </tr>\n",
       "    <tr>\n",
       "      <th>2</th>\n",
       "      <td>9684700</td>\n",
       "      <td>78000.0</td>\n",
       "      <td>0</td>\n",
       "      <td>11</td>\n",
       "      <td>18.45</td>\n",
       "      <td>1</td>\n",
       "      <td>0.0</td>\n",
       "      <td>46.3</td>\n",
       "      <td>0.0</td>\n",
       "      <td>0.035147</td>\n",
       "      <td>1</td>\n",
       "      <td>11.264464</td>\n",
       "      <td>0.0</td>\n",
       "    </tr>\n",
       "    <tr>\n",
       "      <th>3</th>\n",
       "      <td>9695736</td>\n",
       "      <td>37536.0</td>\n",
       "      <td>0</td>\n",
       "      <td>6</td>\n",
       "      <td>12.28</td>\n",
       "      <td>0</td>\n",
       "      <td>0.0</td>\n",
       "      <td>10.7</td>\n",
       "      <td>0.0</td>\n",
       "      <td>0.534887</td>\n",
       "      <td>1</td>\n",
       "      <td>10.533056</td>\n",
       "      <td>0.0</td>\n",
       "    </tr>\n",
       "    <tr>\n",
       "      <th>4</th>\n",
       "      <td>9795013</td>\n",
       "      <td>65000.0</td>\n",
       "      <td>0</td>\n",
       "      <td>11</td>\n",
       "      <td>11.26</td>\n",
       "      <td>0</td>\n",
       "      <td>0.0</td>\n",
       "      <td>15.2</td>\n",
       "      <td>0.0</td>\n",
       "      <td>0.166500</td>\n",
       "      <td>0</td>\n",
       "      <td>11.082143</td>\n",
       "      <td>0.0</td>\n",
       "    </tr>\n",
       "  </tbody>\n",
       "</table>\n",
       "</div>"
      ],
      "text/plain": [
       "         id  annual_inc  short_emp  emp_length_num    dti  last_delinq_none  \\\n",
       "0  11454641    100000.0          1               1  26.27                 1   \n",
       "1   9604874     83000.0          0               4   5.39                 0   \n",
       "2   9684700     78000.0          0              11  18.45                 1   \n",
       "3   9695736     37536.0          0               6  12.28                 0   \n",
       "4   9795013     65000.0          0              11  11.26                 0   \n",
       "\n",
       "   last_major_derog_none  revol_util  total_rec_late_fee  od_ratio  bad_loan  \\\n",
       "0                    0.0        43.2                 0.0  0.160624         0   \n",
       "1                    0.0        21.5                 0.0  0.810777         0   \n",
       "2                    0.0        46.3                 0.0  0.035147         1   \n",
       "3                    0.0        10.7                 0.0  0.534887         1   \n",
       "4                    0.0        15.2                 0.0  0.166500         0   \n",
       "\n",
       "   annual_inc_log  total_rec_late_fee_squareroot  \n",
       "0       11.512925                            0.0  \n",
       "1       11.326596                            0.0  \n",
       "2       11.264464                            0.0  \n",
       "3       10.533056                            0.0  \n",
       "4       11.082143                            0.0  "
      ]
     },
     "execution_count": 84,
     "metadata": {},
     "output_type": "execute_result"
    }
   ],
   "source": [
    "data_numeric.head()"
   ]
  },
  {
   "cell_type": "code",
   "execution_count": 85,
   "metadata": {},
   "outputs": [
    {
     "data": {
      "text/plain": [
       "(20000, 13)"
      ]
     },
     "execution_count": 85,
     "metadata": {},
     "output_type": "execute_result"
    }
   ],
   "source": [
    "data_numeric.shape"
   ]
  },
  {
   "cell_type": "markdown",
   "metadata": {},
   "source": [
    "* variance threshold method for a variance of 5% "
   ]
  },
  {
   "cell_type": "code",
   "execution_count": 86,
   "metadata": {},
   "outputs": [
    {
     "data": {
      "text/plain": [
       "VarianceThreshold(threshold=0.05)"
      ]
     },
     "execution_count": 86,
     "metadata": {},
     "output_type": "execute_result"
    }
   ],
   "source": [
    "variance_threshold = VarianceThreshold(0.05)\n",
    "variance_threshold"
   ]
  },
  {
   "cell_type": "code",
   "execution_count": 87,
   "metadata": {},
   "outputs": [
    {
     "data": {
      "text/plain": [
       "(20000, 12)"
      ]
     },
     "execution_count": 87,
     "metadata": {},
     "output_type": "execute_result"
    }
   ],
   "source": [
    "variance_threshold.fit_transform(data_numeric).shape"
   ]
  },
  {
   "cell_type": "code",
   "execution_count": 88,
   "metadata": {},
   "outputs": [
    {
     "data": {
      "text/plain": [
       "array([ True,  True,  True,  True,  True,  True, False,  True,  True,\n",
       "        True,  True,  True,  True])"
      ]
     },
     "execution_count": 88,
     "metadata": {},
     "output_type": "execute_result"
    }
   ],
   "source": [
    "variance_threshold.get_support()"
   ]
  },
  {
   "cell_type": "code",
   "execution_count": 89,
   "metadata": {},
   "outputs": [
    {
     "data": {
      "text/html": [
       "<div>\n",
       "<style scoped>\n",
       "    .dataframe tbody tr th:only-of-type {\n",
       "        vertical-align: middle;\n",
       "    }\n",
       "\n",
       "    .dataframe tbody tr th {\n",
       "        vertical-align: top;\n",
       "    }\n",
       "\n",
       "    .dataframe thead th {\n",
       "        text-align: right;\n",
       "    }\n",
       "</style>\n",
       "<table border=\"1\" class=\"dataframe\">\n",
       "  <thead>\n",
       "    <tr style=\"text-align: right;\">\n",
       "      <th></th>\n",
       "      <th>id</th>\n",
       "      <th>annual_inc</th>\n",
       "      <th>short_emp</th>\n",
       "      <th>emp_length_num</th>\n",
       "      <th>dti</th>\n",
       "      <th>last_delinq_none</th>\n",
       "      <th>revol_util</th>\n",
       "      <th>total_rec_late_fee</th>\n",
       "      <th>od_ratio</th>\n",
       "      <th>bad_loan</th>\n",
       "      <th>annual_inc_log</th>\n",
       "      <th>total_rec_late_fee_squareroot</th>\n",
       "    </tr>\n",
       "  </thead>\n",
       "  <tbody>\n",
       "    <tr>\n",
       "      <th>0</th>\n",
       "      <td>11454641</td>\n",
       "      <td>100000.0</td>\n",
       "      <td>1</td>\n",
       "      <td>1</td>\n",
       "      <td>26.27</td>\n",
       "      <td>1</td>\n",
       "      <td>43.2</td>\n",
       "      <td>0.0</td>\n",
       "      <td>0.160624</td>\n",
       "      <td>0</td>\n",
       "      <td>11.512925</td>\n",
       "      <td>0.0</td>\n",
       "    </tr>\n",
       "    <tr>\n",
       "      <th>1</th>\n",
       "      <td>9604874</td>\n",
       "      <td>83000.0</td>\n",
       "      <td>0</td>\n",
       "      <td>4</td>\n",
       "      <td>5.39</td>\n",
       "      <td>0</td>\n",
       "      <td>21.5</td>\n",
       "      <td>0.0</td>\n",
       "      <td>0.810777</td>\n",
       "      <td>0</td>\n",
       "      <td>11.326596</td>\n",
       "      <td>0.0</td>\n",
       "    </tr>\n",
       "    <tr>\n",
       "      <th>2</th>\n",
       "      <td>9684700</td>\n",
       "      <td>78000.0</td>\n",
       "      <td>0</td>\n",
       "      <td>11</td>\n",
       "      <td>18.45</td>\n",
       "      <td>1</td>\n",
       "      <td>46.3</td>\n",
       "      <td>0.0</td>\n",
       "      <td>0.035147</td>\n",
       "      <td>1</td>\n",
       "      <td>11.264464</td>\n",
       "      <td>0.0</td>\n",
       "    </tr>\n",
       "    <tr>\n",
       "      <th>3</th>\n",
       "      <td>9695736</td>\n",
       "      <td>37536.0</td>\n",
       "      <td>0</td>\n",
       "      <td>6</td>\n",
       "      <td>12.28</td>\n",
       "      <td>0</td>\n",
       "      <td>10.7</td>\n",
       "      <td>0.0</td>\n",
       "      <td>0.534887</td>\n",
       "      <td>1</td>\n",
       "      <td>10.533056</td>\n",
       "      <td>0.0</td>\n",
       "    </tr>\n",
       "    <tr>\n",
       "      <th>4</th>\n",
       "      <td>9795013</td>\n",
       "      <td>65000.0</td>\n",
       "      <td>0</td>\n",
       "      <td>11</td>\n",
       "      <td>11.26</td>\n",
       "      <td>0</td>\n",
       "      <td>15.2</td>\n",
       "      <td>0.0</td>\n",
       "      <td>0.166500</td>\n",
       "      <td>0</td>\n",
       "      <td>11.082143</td>\n",
       "      <td>0.0</td>\n",
       "    </tr>\n",
       "  </tbody>\n",
       "</table>\n",
       "</div>"
      ],
      "text/plain": [
       "         id  annual_inc  short_emp  emp_length_num    dti  last_delinq_none  \\\n",
       "0  11454641    100000.0          1               1  26.27                 1   \n",
       "1   9604874     83000.0          0               4   5.39                 0   \n",
       "2   9684700     78000.0          0              11  18.45                 1   \n",
       "3   9695736     37536.0          0               6  12.28                 0   \n",
       "4   9795013     65000.0          0              11  11.26                 0   \n",
       "\n",
       "   revol_util  total_rec_late_fee  od_ratio  bad_loan  annual_inc_log  \\\n",
       "0        43.2                 0.0  0.160624         0       11.512925   \n",
       "1        21.5                 0.0  0.810777         0       11.326596   \n",
       "2        46.3                 0.0  0.035147         1       11.264464   \n",
       "3        10.7                 0.0  0.534887         1       10.533056   \n",
       "4        15.2                 0.0  0.166500         0       11.082143   \n",
       "\n",
       "   total_rec_late_fee_squareroot  \n",
       "0                            0.0  \n",
       "1                            0.0  \n",
       "2                            0.0  \n",
       "3                            0.0  \n",
       "4                            0.0  "
      ]
     },
     "execution_count": 89,
     "metadata": {},
     "output_type": "execute_result"
    }
   ],
   "source": [
    "new_columns = data_numeric.columns[variance_threshold.get_support()]\n",
    "\n",
    "# Create a dataframe\n",
    "data_numeric_t = pd.DataFrame(data_numeric, columns=new_columns)\n",
    "data_numeric_t.head()"
   ]
  },
  {
   "cell_type": "markdown",
   "metadata": {},
   "source": [
    "It seems this methods excludes only one feature with less than 5% variance - last_major_derog_none"
   ]
  },
  {
   "cell_type": "markdown",
   "metadata": {},
   "source": [
    "* with the pearson correlation method"
   ]
  },
  {
   "cell_type": "code",
   "execution_count": 90,
   "metadata": {},
   "outputs": [
    {
     "name": "stdout",
     "output_type": "stream",
     "text": [
      "id: corr=-0.037  pval=0.000  pass the test=True\n",
      "annual_inc: corr=-0.092  pval=0.000  pass the test=True\n",
      "short_emp: corr= 0.037  pval=0.000  pass the test=True\n",
      "emp_length_num: corr=-0.041  pval=0.000  pass the test=True\n",
      "dti: corr= 0.142  pval=0.000  pass the test=True\n",
      "last_delinq_none: corr= 0.021  pval=0.002  pass the test=True\n",
      "last_major_derog_none: corr=-0.001  pval=0.885  pass the test=False\n",
      "revol_util: corr= 0.102  pval=0.000  pass the test=True\n",
      "total_rec_late_fee: corr= 0.130  pval=0.000  pass the test=True\n",
      "od_ratio: corr= 0.000  pval=0.954  pass the test=False\n",
      "bad_loan: corr= 1.000  pval=0.000  pass the test=True\n",
      "annual_inc_log: corr=-0.128  pval=0.000  pass the test=True\n",
      "total_rec_late_fee_squareroot: corr= 0.140  pval=0.000  pass the test=True\n"
     ]
    }
   ],
   "source": [
    "from scipy import stats\n",
    "\n",
    "for col in data_numeric.columns:\n",
    "    corr, pval = stats.pearsonr(data_numeric[col], data_numeric.bad_loan)\n",
    "    print(f\"{col}: corr={corr: >6.3f}  pval={pval:.3f}  pass the test={pval<0.05}\")"
   ]
  },
  {
   "cell_type": "markdown",
   "metadata": {},
   "source": [
    "This method shows two features last_major_derog_none (again) and od_ratio"
   ]
  },
  {
   "cell_type": "code",
   "execution_count": 91,
   "metadata": {},
   "outputs": [
    {
     "data": {
      "image/png": "[encoded data removed]",
      "text/plain": [
       "<Figure size 413.125x360 with 1 Axes>"
      ]
     },
     "metadata": {
      "needs_background": "light"
     },
     "output_type": "display_data"
    }
   ],
   "source": [
    "sns.displot(data=data, x=\"od_ratio\", bins=50, hue=\"bad_loan\", rug=True, kde=False, lw=0, alpha=0.3)\n",
    "plt.show()"
   ]
  },
  {
   "cell_type": "code",
   "execution_count": 92,
   "metadata": {},
   "outputs": [],
   "source": [
    "#sns.pairplot(data_numeric, hue=\"bad_loan\")"
   ]
  },
  {
   "cell_type": "markdown",
   "metadata": {},
   "source": [
    "# Answer\n",
    "\n",
    "Despite these methods having their shortcomings, the last_major_derog_none was a feature that displayed 19426 nulls, which were replaced by 0. Other hypothesis to deal with this feature was to remove it and these feature selections seem to point in that direction.\n",
    "\n",
    "Regarding the od_ratio, this feature seems to be uniformly destributed and a pairplot seem to support this observation. In addition it seems the pearson correlation p value is higher than 0.05 so we can discard these two feature\n",
    "\n",
    "* Important\n",
    "OTHER TWO FEATURES THAT NEED TO BE DISCARDED ARE id, a unique identifier of the loan AND THE TARGET FEATURE - bad_loan (for trainning and testing the models)"
   ]
  },
  {
   "cell_type": "code",
   "execution_count": 93,
   "metadata": {},
   "outputs": [],
   "source": [
    "data = data.drop(['id', 'bad_loan', 'last_major_derog_none', 'od_ratio'], axis=1)"
   ]
  },
  {
   "cell_type": "code",
   "execution_count": 94,
   "metadata": {},
   "outputs": [
    {
     "data": {
      "text/plain": [
       "(20000, 13)"
      ]
     },
     "execution_count": 94,
     "metadata": {},
     "output_type": "execute_result"
    }
   ],
   "source": [
    "data.shape"
   ]
  },
  {
   "cell_type": "code",
   "execution_count": 95,
   "metadata": {},
   "outputs": [
    {
     "data": {
      "text/plain": [
       "grade                            0\n",
       "annual_inc                       0\n",
       "short_emp                        0\n",
       "emp_length_num                   0\n",
       "home_ownership                   0\n",
       "dti                              0\n",
       "purpose                          0\n",
       "term                             0\n",
       "last_delinq_none                 0\n",
       "revol_util                       0\n",
       "total_rec_late_fee               0\n",
       "annual_inc_log                   0\n",
       "total_rec_late_fee_squareroot    0\n",
       "dtype: int64"
      ]
     },
     "execution_count": 95,
     "metadata": {},
     "output_type": "execute_result"
    }
   ],
   "source": [
    "data.isnull().sum()"
   ]
  },
  {
   "cell_type": "code",
   "execution_count": 96,
   "metadata": {},
   "outputs": [
    {
     "data": {
      "text/html": [
       "<div>\n",
       "<style scoped>\n",
       "    .dataframe tbody tr th:only-of-type {\n",
       "        vertical-align: middle;\n",
       "    }\n",
       "\n",
       "    .dataframe tbody tr th {\n",
       "        vertical-align: top;\n",
       "    }\n",
       "\n",
       "    .dataframe thead th {\n",
       "        text-align: right;\n",
       "    }\n",
       "</style>\n",
       "<table border=\"1\" class=\"dataframe\">\n",
       "  <thead>\n",
       "    <tr style=\"text-align: right;\">\n",
       "      <th></th>\n",
       "      <th>grade</th>\n",
       "      <th>annual_inc</th>\n",
       "      <th>short_emp</th>\n",
       "      <th>emp_length_num</th>\n",
       "      <th>home_ownership</th>\n",
       "      <th>dti</th>\n",
       "      <th>purpose</th>\n",
       "      <th>term</th>\n",
       "      <th>last_delinq_none</th>\n",
       "      <th>revol_util</th>\n",
       "      <th>total_rec_late_fee</th>\n",
       "      <th>annual_inc_log</th>\n",
       "      <th>total_rec_late_fee_squareroot</th>\n",
       "    </tr>\n",
       "  </thead>\n",
       "  <tbody>\n",
       "    <tr>\n",
       "      <th>0</th>\n",
       "      <td>A</td>\n",
       "      <td>100000.0</td>\n",
       "      <td>1</td>\n",
       "      <td>1</td>\n",
       "      <td>RENT</td>\n",
       "      <td>26.27</td>\n",
       "      <td>credit_card</td>\n",
       "      <td>36 months</td>\n",
       "      <td>1</td>\n",
       "      <td>43.2</td>\n",
       "      <td>0.0</td>\n",
       "      <td>11.512925</td>\n",
       "      <td>0.0</td>\n",
       "    </tr>\n",
       "    <tr>\n",
       "      <th>1</th>\n",
       "      <td>A</td>\n",
       "      <td>83000.0</td>\n",
       "      <td>0</td>\n",
       "      <td>4</td>\n",
       "      <td>OWN</td>\n",
       "      <td>5.39</td>\n",
       "      <td>credit_card</td>\n",
       "      <td>36 months</td>\n",
       "      <td>0</td>\n",
       "      <td>21.5</td>\n",
       "      <td>0.0</td>\n",
       "      <td>11.326596</td>\n",
       "      <td>0.0</td>\n",
       "    </tr>\n",
       "    <tr>\n",
       "      <th>2</th>\n",
       "      <td>D</td>\n",
       "      <td>78000.0</td>\n",
       "      <td>0</td>\n",
       "      <td>11</td>\n",
       "      <td>MORTGAGE</td>\n",
       "      <td>18.45</td>\n",
       "      <td>debt_consolidation</td>\n",
       "      <td>60 months</td>\n",
       "      <td>1</td>\n",
       "      <td>46.3</td>\n",
       "      <td>0.0</td>\n",
       "      <td>11.264464</td>\n",
       "      <td>0.0</td>\n",
       "    </tr>\n",
       "    <tr>\n",
       "      <th>3</th>\n",
       "      <td>D</td>\n",
       "      <td>37536.0</td>\n",
       "      <td>0</td>\n",
       "      <td>6</td>\n",
       "      <td>MORTGAGE</td>\n",
       "      <td>12.28</td>\n",
       "      <td>medical</td>\n",
       "      <td>60 months</td>\n",
       "      <td>0</td>\n",
       "      <td>10.7</td>\n",
       "      <td>0.0</td>\n",
       "      <td>10.533056</td>\n",
       "      <td>0.0</td>\n",
       "    </tr>\n",
       "    <tr>\n",
       "      <th>4</th>\n",
       "      <td>D</td>\n",
       "      <td>65000.0</td>\n",
       "      <td>0</td>\n",
       "      <td>11</td>\n",
       "      <td>MORTGAGE</td>\n",
       "      <td>11.26</td>\n",
       "      <td>debt_consolidation</td>\n",
       "      <td>36 months</td>\n",
       "      <td>0</td>\n",
       "      <td>15.2</td>\n",
       "      <td>0.0</td>\n",
       "      <td>11.082143</td>\n",
       "      <td>0.0</td>\n",
       "    </tr>\n",
       "  </tbody>\n",
       "</table>\n",
       "</div>"
      ],
      "text/plain": [
       "  grade  annual_inc  short_emp  emp_length_num home_ownership    dti  \\\n",
       "0     A    100000.0          1               1           RENT  26.27   \n",
       "1     A     83000.0          0               4            OWN   5.39   \n",
       "2     D     78000.0          0              11       MORTGAGE  18.45   \n",
       "3     D     37536.0          0               6       MORTGAGE  12.28   \n",
       "4     D     65000.0          0              11       MORTGAGE  11.26   \n",
       "\n",
       "              purpose        term  last_delinq_none  revol_util  \\\n",
       "0         credit_card   36 months                 1        43.2   \n",
       "1         credit_card   36 months                 0        21.5   \n",
       "2  debt_consolidation   60 months                 1        46.3   \n",
       "3             medical   60 months                 0        10.7   \n",
       "4  debt_consolidation   36 months                 0        15.2   \n",
       "\n",
       "   total_rec_late_fee  annual_inc_log  total_rec_late_fee_squareroot  \n",
       "0                 0.0       11.512925                            0.0  \n",
       "1                 0.0       11.326596                            0.0  \n",
       "2                 0.0       11.264464                            0.0  \n",
       "3                 0.0       10.533056                            0.0  \n",
       "4                 0.0       11.082143                            0.0  "
      ]
     },
     "execution_count": 96,
     "metadata": {},
     "output_type": "execute_result"
    }
   ],
   "source": [
    "data.head()"
   ]
  },
  {
   "cell_type": "code",
   "execution_count": null,
   "metadata": {},
   "outputs": [],
   "source": []
  },
  {
   "cell_type": "markdown",
   "metadata": {},
   "source": [
    "# EXERCISE 8"
   ]
  },
  {
   "cell_type": "markdown",
   "metadata": {},
   "source": [
    "8. **Pipelines** (scikit-learn). Load the dataset again and **select only the numerical variables**.\n",
    "\n",
    "   8.1. Create a pipeline with three steps: 1) [SimpleImputer](https://scikit-learn.org/stable/modules/generated/sklearn.impute.SimpleImputer.html) with `strategy=’median’`; 2) One Scaler you may know; 3) [Principal Component Analysis](http://scikit-learn.org/stable/modules/generated/sklearn.decomposition.PCA.html) (with final 5 features)  \n",
    "   8.2. Fit and Transform your dataset.  \n",
    "   8.3. Comment what you obtained.  "
   ]
  },
  {
   "cell_type": "code",
   "execution_count": 97,
   "metadata": {},
   "outputs": [],
   "source": [
    "# Loading the dataset again\n",
    "\n",
    "data_ex8 = pd.read_csv('final_project_lending.csv', low_memory=False)"
   ]
  },
  {
   "cell_type": "code",
   "execution_count": 98,
   "metadata": {},
   "outputs": [],
   "source": [
    "# Selecting only numeric features\n",
    "\n",
    "data_ex8 = data_ex8.select_dtypes(include='number')"
   ]
  },
  {
   "cell_type": "code",
   "execution_count": 99,
   "metadata": {},
   "outputs": [
    {
     "data": {
      "text/html": [
       "<div>\n",
       "<style scoped>\n",
       "    .dataframe tbody tr th:only-of-type {\n",
       "        vertical-align: middle;\n",
       "    }\n",
       "\n",
       "    .dataframe tbody tr th {\n",
       "        vertical-align: top;\n",
       "    }\n",
       "\n",
       "    .dataframe thead th {\n",
       "        text-align: right;\n",
       "    }\n",
       "</style>\n",
       "<table border=\"1\" class=\"dataframe\">\n",
       "  <thead>\n",
       "    <tr style=\"text-align: right;\">\n",
       "      <th></th>\n",
       "      <th>id</th>\n",
       "      <th>annual_inc</th>\n",
       "      <th>short_emp</th>\n",
       "      <th>emp_length_num</th>\n",
       "      <th>dti</th>\n",
       "      <th>last_delinq_none</th>\n",
       "      <th>last_major_derog_none</th>\n",
       "      <th>revol_util</th>\n",
       "      <th>total_rec_late_fee</th>\n",
       "      <th>od_ratio</th>\n",
       "      <th>bad_loan</th>\n",
       "    </tr>\n",
       "  </thead>\n",
       "  <tbody>\n",
       "    <tr>\n",
       "      <th>0</th>\n",
       "      <td>11454641</td>\n",
       "      <td>100000.0</td>\n",
       "      <td>1</td>\n",
       "      <td>1</td>\n",
       "      <td>26.27</td>\n",
       "      <td>1</td>\n",
       "      <td>NaN</td>\n",
       "      <td>43.2</td>\n",
       "      <td>0.0</td>\n",
       "      <td>0.160624</td>\n",
       "      <td>0</td>\n",
       "    </tr>\n",
       "    <tr>\n",
       "      <th>1</th>\n",
       "      <td>9604874</td>\n",
       "      <td>83000.0</td>\n",
       "      <td>0</td>\n",
       "      <td>4</td>\n",
       "      <td>5.39</td>\n",
       "      <td>0</td>\n",
       "      <td>NaN</td>\n",
       "      <td>21.5</td>\n",
       "      <td>0.0</td>\n",
       "      <td>0.810777</td>\n",
       "      <td>0</td>\n",
       "    </tr>\n",
       "    <tr>\n",
       "      <th>2</th>\n",
       "      <td>9684700</td>\n",
       "      <td>78000.0</td>\n",
       "      <td>0</td>\n",
       "      <td>11</td>\n",
       "      <td>18.45</td>\n",
       "      <td>1</td>\n",
       "      <td>NaN</td>\n",
       "      <td>46.3</td>\n",
       "      <td>0.0</td>\n",
       "      <td>0.035147</td>\n",
       "      <td>1</td>\n",
       "    </tr>\n",
       "    <tr>\n",
       "      <th>3</th>\n",
       "      <td>9695736</td>\n",
       "      <td>37536.0</td>\n",
       "      <td>0</td>\n",
       "      <td>6</td>\n",
       "      <td>12.28</td>\n",
       "      <td>0</td>\n",
       "      <td>NaN</td>\n",
       "      <td>10.7</td>\n",
       "      <td>0.0</td>\n",
       "      <td>0.534887</td>\n",
       "      <td>1</td>\n",
       "    </tr>\n",
       "    <tr>\n",
       "      <th>4</th>\n",
       "      <td>9795013</td>\n",
       "      <td>65000.0</td>\n",
       "      <td>0</td>\n",
       "      <td>11</td>\n",
       "      <td>11.26</td>\n",
       "      <td>0</td>\n",
       "      <td>NaN</td>\n",
       "      <td>15.2</td>\n",
       "      <td>0.0</td>\n",
       "      <td>0.166500</td>\n",
       "      <td>0</td>\n",
       "    </tr>\n",
       "  </tbody>\n",
       "</table>\n",
       "</div>"
      ],
      "text/plain": [
       "         id  annual_inc  short_emp  emp_length_num    dti  last_delinq_none  \\\n",
       "0  11454641    100000.0          1               1  26.27                 1   \n",
       "1   9604874     83000.0          0               4   5.39                 0   \n",
       "2   9684700     78000.0          0              11  18.45                 1   \n",
       "3   9695736     37536.0          0               6  12.28                 0   \n",
       "4   9795013     65000.0          0              11  11.26                 0   \n",
       "\n",
       "   last_major_derog_none  revol_util  total_rec_late_fee  od_ratio  bad_loan  \n",
       "0                    NaN        43.2                 0.0  0.160624         0  \n",
       "1                    NaN        21.5                 0.0  0.810777         0  \n",
       "2                    NaN        46.3                 0.0  0.035147         1  \n",
       "3                    NaN        10.7                 0.0  0.534887         1  \n",
       "4                    NaN        15.2                 0.0  0.166500         0  "
      ]
     },
     "execution_count": 99,
     "metadata": {},
     "output_type": "execute_result"
    }
   ],
   "source": [
    "data_ex8.head()"
   ]
  },
  {
   "cell_type": "code",
   "execution_count": 100,
   "metadata": {},
   "outputs": [
    {
     "data": {
      "text/plain": [
       "id                           0\n",
       "annual_inc                   0\n",
       "short_emp                    0\n",
       "emp_length_num               0\n",
       "dti                        154\n",
       "last_delinq_none             0\n",
       "last_major_derog_none    19426\n",
       "revol_util                   0\n",
       "total_rec_late_fee           0\n",
       "od_ratio                     0\n",
       "bad_loan                     0\n",
       "dtype: int64"
      ]
     },
     "execution_count": 100,
     "metadata": {},
     "output_type": "execute_result"
    }
   ],
   "source": [
    "data_ex8.isnull().sum()"
   ]
  },
  {
   "cell_type": "code",
   "execution_count": 101,
   "metadata": {},
   "outputs": [],
   "source": [
    "# Lets drop the feature last_major_derog_none, id and save the target (we're gonna keep the od_ratio feature for fearing of losing too many features for the exercise)\n",
    "data_ex8_y = pd.Series(data_ex8['bad_loan'], name='bad_loan')\n",
    "\n",
    "data_ex8 = data_ex8.drop(['last_major_derog_none', 'id', 'bad_loan'], axis=1)"
   ]
  },
  {
   "cell_type": "code",
   "execution_count": 102,
   "metadata": {},
   "outputs": [
    {
     "data": {
      "text/html": [
       "<div>\n",
       "<style scoped>\n",
       "    .dataframe tbody tr th:only-of-type {\n",
       "        vertical-align: middle;\n",
       "    }\n",
       "\n",
       "    .dataframe tbody tr th {\n",
       "        vertical-align: top;\n",
       "    }\n",
       "\n",
       "    .dataframe thead th {\n",
       "        text-align: right;\n",
       "    }\n",
       "</style>\n",
       "<table border=\"1\" class=\"dataframe\">\n",
       "  <thead>\n",
       "    <tr style=\"text-align: right;\">\n",
       "      <th></th>\n",
       "      <th>annual_inc</th>\n",
       "      <th>short_emp</th>\n",
       "      <th>emp_length_num</th>\n",
       "      <th>dti</th>\n",
       "      <th>last_delinq_none</th>\n",
       "      <th>revol_util</th>\n",
       "      <th>total_rec_late_fee</th>\n",
       "      <th>od_ratio</th>\n",
       "    </tr>\n",
       "  </thead>\n",
       "  <tbody>\n",
       "    <tr>\n",
       "      <th>0</th>\n",
       "      <td>100000.0</td>\n",
       "      <td>1</td>\n",
       "      <td>1</td>\n",
       "      <td>26.27</td>\n",
       "      <td>1</td>\n",
       "      <td>43.2</td>\n",
       "      <td>0.0</td>\n",
       "      <td>0.160624</td>\n",
       "    </tr>\n",
       "    <tr>\n",
       "      <th>1</th>\n",
       "      <td>83000.0</td>\n",
       "      <td>0</td>\n",
       "      <td>4</td>\n",
       "      <td>5.39</td>\n",
       "      <td>0</td>\n",
       "      <td>21.5</td>\n",
       "      <td>0.0</td>\n",
       "      <td>0.810777</td>\n",
       "    </tr>\n",
       "    <tr>\n",
       "      <th>2</th>\n",
       "      <td>78000.0</td>\n",
       "      <td>0</td>\n",
       "      <td>11</td>\n",
       "      <td>18.45</td>\n",
       "      <td>1</td>\n",
       "      <td>46.3</td>\n",
       "      <td>0.0</td>\n",
       "      <td>0.035147</td>\n",
       "    </tr>\n",
       "    <tr>\n",
       "      <th>3</th>\n",
       "      <td>37536.0</td>\n",
       "      <td>0</td>\n",
       "      <td>6</td>\n",
       "      <td>12.28</td>\n",
       "      <td>0</td>\n",
       "      <td>10.7</td>\n",
       "      <td>0.0</td>\n",
       "      <td>0.534887</td>\n",
       "    </tr>\n",
       "    <tr>\n",
       "      <th>4</th>\n",
       "      <td>65000.0</td>\n",
       "      <td>0</td>\n",
       "      <td>11</td>\n",
       "      <td>11.26</td>\n",
       "      <td>0</td>\n",
       "      <td>15.2</td>\n",
       "      <td>0.0</td>\n",
       "      <td>0.166500</td>\n",
       "    </tr>\n",
       "    <tr>\n",
       "      <th>...</th>\n",
       "      <td>...</td>\n",
       "      <td>...</td>\n",
       "      <td>...</td>\n",
       "      <td>...</td>\n",
       "      <td>...</td>\n",
       "      <td>...</td>\n",
       "      <td>...</td>\n",
       "      <td>...</td>\n",
       "    </tr>\n",
       "    <tr>\n",
       "      <th>19995</th>\n",
       "      <td>27000.0</td>\n",
       "      <td>0</td>\n",
       "      <td>9</td>\n",
       "      <td>18.36</td>\n",
       "      <td>1</td>\n",
       "      <td>46.5</td>\n",
       "      <td>0.0</td>\n",
       "      <td>0.821782</td>\n",
       "    </tr>\n",
       "    <tr>\n",
       "      <th>19996</th>\n",
       "      <td>45000.0</td>\n",
       "      <td>0</td>\n",
       "      <td>2</td>\n",
       "      <td>23.22</td>\n",
       "      <td>0</td>\n",
       "      <td>46.2</td>\n",
       "      <td>0.0</td>\n",
       "      <td>0.652200</td>\n",
       "    </tr>\n",
       "    <tr>\n",
       "      <th>19997</th>\n",
       "      <td>104000.0</td>\n",
       "      <td>0</td>\n",
       "      <td>5</td>\n",
       "      <td>13.27</td>\n",
       "      <td>1</td>\n",
       "      <td>78.5</td>\n",
       "      <td>0.0</td>\n",
       "      <td>0.482555</td>\n",
       "    </tr>\n",
       "    <tr>\n",
       "      <th>19998</th>\n",
       "      <td>38400.0</td>\n",
       "      <td>0</td>\n",
       "      <td>2</td>\n",
       "      <td>12.84</td>\n",
       "      <td>0</td>\n",
       "      <td>47.4</td>\n",
       "      <td>0.0</td>\n",
       "      <td>0.822980</td>\n",
       "    </tr>\n",
       "    <tr>\n",
       "      <th>19999</th>\n",
       "      <td>150000.0</td>\n",
       "      <td>0</td>\n",
       "      <td>11</td>\n",
       "      <td>2.20</td>\n",
       "      <td>0</td>\n",
       "      <td>40.7</td>\n",
       "      <td>0.0</td>\n",
       "      <td>0.201388</td>\n",
       "    </tr>\n",
       "  </tbody>\n",
       "</table>\n",
       "<p>20000 rows × 8 columns</p>\n",
       "</div>"
      ],
      "text/plain": [
       "       annual_inc  short_emp  emp_length_num    dti  last_delinq_none  \\\n",
       "0        100000.0          1               1  26.27                 1   \n",
       "1         83000.0          0               4   5.39                 0   \n",
       "2         78000.0          0              11  18.45                 1   \n",
       "3         37536.0          0               6  12.28                 0   \n",
       "4         65000.0          0              11  11.26                 0   \n",
       "...           ...        ...             ...    ...               ...   \n",
       "19995     27000.0          0               9  18.36                 1   \n",
       "19996     45000.0          0               2  23.22                 0   \n",
       "19997    104000.0          0               5  13.27                 1   \n",
       "19998     38400.0          0               2  12.84                 0   \n",
       "19999    150000.0          0              11   2.20                 0   \n",
       "\n",
       "       revol_util  total_rec_late_fee  od_ratio  \n",
       "0            43.2                 0.0  0.160624  \n",
       "1            21.5                 0.0  0.810777  \n",
       "2            46.3                 0.0  0.035147  \n",
       "3            10.7                 0.0  0.534887  \n",
       "4            15.2                 0.0  0.166500  \n",
       "...           ...                 ...       ...  \n",
       "19995        46.5                 0.0  0.821782  \n",
       "19996        46.2                 0.0  0.652200  \n",
       "19997        78.5                 0.0  0.482555  \n",
       "19998        47.4                 0.0  0.822980  \n",
       "19999        40.7                 0.0  0.201388  \n",
       "\n",
       "[20000 rows x 8 columns]"
      ]
     },
     "execution_count": 102,
     "metadata": {},
     "output_type": "execute_result"
    }
   ],
   "source": [
    "data_ex8"
   ]
  },
  {
   "cell_type": "code",
   "execution_count": 103,
   "metadata": {},
   "outputs": [
    {
     "data": {
      "text/plain": [
       "0        0\n",
       "1        0\n",
       "2        1\n",
       "3        1\n",
       "4        0\n",
       "        ..\n",
       "19995    1\n",
       "19996    0\n",
       "19997    0\n",
       "19998    0\n",
       "19999    0\n",
       "Name: bad_loan, Length: 20000, dtype: int64"
      ]
     },
     "execution_count": 103,
     "metadata": {},
     "output_type": "execute_result"
    }
   ],
   "source": [
    "data_ex8_y"
   ]
  },
  {
   "cell_type": "markdown",
   "metadata": {},
   "source": [
    "# 8.1. \n",
    "Create a pipeline with three steps: 1) [SimpleImputer](https://scikit-learn.org/stable/modules/generated/sklearn.impute.SimpleImputer.html) with `strategy=’median’`; 2) One Scaler you may know; 3) [Principal Component Analysis](http://scikit-learn.org/stable/modules/generated/sklearn.decomposition.PCA.html) (with final 5 features)  "
   ]
  },
  {
   "cell_type": "code",
   "execution_count": 104,
   "metadata": {},
   "outputs": [],
   "source": [
    "pipeline = Pipeline([\n",
    "    ('step_1', SimpleImputer(strategy='median')),\n",
    "    ('step_2', MinMaxScaler()),\n",
    "    ('step_3', PCA(n_components=5)),\n",
    "])"
   ]
  },
  {
   "cell_type": "markdown",
   "metadata": {},
   "source": [
    "# 8.2. \n",
    "Fit and Transform your dataset."
   ]
  },
  {
   "cell_type": "code",
   "execution_count": 105,
   "metadata": {},
   "outputs": [],
   "source": [
    "data_ex8_transformed = pipeline.fit_transform(data_ex8, data_ex8_y)\n",
    "\n",
    "data_ex8_transformed = pd.DataFrame(data_ex8_transformed)"
   ]
  },
  {
   "cell_type": "code",
   "execution_count": 106,
   "metadata": {},
   "outputs": [
    {
     "data": {
      "text/plain": [
       "array([0.41678237, 0.70319661, 0.84166469, 0.92004853, 0.9949351 ])"
      ]
     },
     "execution_count": 106,
     "metadata": {},
     "output_type": "execute_result"
    }
   ],
   "source": [
    "pipeline.named_steps['step_3'].explained_variance_ratio_.cumsum()"
   ]
  },
  {
   "cell_type": "code",
   "execution_count": 107,
   "metadata": {},
   "outputs": [
    {
     "data": {
      "text/html": [
       "<div>\n",
       "<style scoped>\n",
       "    .dataframe tbody tr th:only-of-type {\n",
       "        vertical-align: middle;\n",
       "    }\n",
       "\n",
       "    .dataframe tbody tr th {\n",
       "        vertical-align: top;\n",
       "    }\n",
       "\n",
       "    .dataframe thead th {\n",
       "        text-align: right;\n",
       "    }\n",
       "</style>\n",
       "<table border=\"1\" class=\"dataframe\">\n",
       "  <thead>\n",
       "    <tr style=\"text-align: right;\">\n",
       "      <th></th>\n",
       "      <th>0</th>\n",
       "      <th>1</th>\n",
       "      <th>2</th>\n",
       "      <th>3</th>\n",
       "      <th>4</th>\n",
       "    </tr>\n",
       "  </thead>\n",
       "  <tbody>\n",
       "    <tr>\n",
       "      <th>0</th>\n",
       "      <td>-0.578624</td>\n",
       "      <td>0.914855</td>\n",
       "      <td>0.334424</td>\n",
       "      <td>0.358805</td>\n",
       "      <td>-0.231217</td>\n",
       "    </tr>\n",
       "    <tr>\n",
       "      <th>1</th>\n",
       "      <td>0.529140</td>\n",
       "      <td>0.189415</td>\n",
       "      <td>-0.304102</td>\n",
       "      <td>-0.375808</td>\n",
       "      <td>0.154754</td>\n",
       "    </tr>\n",
       "    <tr>\n",
       "      <th>2</th>\n",
       "      <td>-0.402412</td>\n",
       "      <td>-0.413368</td>\n",
       "      <td>0.471234</td>\n",
       "      <td>0.096167</td>\n",
       "      <td>-0.146847</td>\n",
       "    </tr>\n",
       "    <tr>\n",
       "      <th>3</th>\n",
       "      <td>0.544270</td>\n",
       "      <td>0.054748</td>\n",
       "      <td>-0.028898</td>\n",
       "      <td>-0.148680</td>\n",
       "      <td>0.100775</td>\n",
       "    </tr>\n",
       "    <tr>\n",
       "      <th>4</th>\n",
       "      <td>0.592233</td>\n",
       "      <td>-0.282391</td>\n",
       "      <td>0.342865</td>\n",
       "      <td>-0.087714</td>\n",
       "      <td>-0.191947</td>\n",
       "    </tr>\n",
       "    <tr>\n",
       "      <th>...</th>\n",
       "      <td>...</td>\n",
       "      <td>...</td>\n",
       "      <td>...</td>\n",
       "      <td>...</td>\n",
       "      <td>...</td>\n",
       "    </tr>\n",
       "    <tr>\n",
       "      <th>19995</th>\n",
       "      <td>-0.420337</td>\n",
       "      <td>-0.282312</td>\n",
       "      <td>-0.316739</td>\n",
       "      <td>0.054642</td>\n",
       "      <td>-0.036224</td>\n",
       "    </tr>\n",
       "    <tr>\n",
       "      <th>19996</th>\n",
       "      <td>0.501218</td>\n",
       "      <td>0.323388</td>\n",
       "      <td>-0.151593</td>\n",
       "      <td>0.078738</td>\n",
       "      <td>0.420555</td>\n",
       "    </tr>\n",
       "    <tr>\n",
       "      <th>19997</th>\n",
       "      <td>-0.456561</td>\n",
       "      <td>-0.008348</td>\n",
       "      <td>0.021588</td>\n",
       "      <td>-0.154407</td>\n",
       "      <td>0.149376</td>\n",
       "    </tr>\n",
       "    <tr>\n",
       "      <th>19998</th>\n",
       "      <td>0.506199</td>\n",
       "      <td>0.324269</td>\n",
       "      <td>-0.319590</td>\n",
       "      <td>-0.205425</td>\n",
       "      <td>0.332418</td>\n",
       "    </tr>\n",
       "    <tr>\n",
       "      <th>19999</th>\n",
       "      <td>0.597128</td>\n",
       "      <td>-0.281954</td>\n",
       "      <td>0.310538</td>\n",
       "      <td>-0.339041</td>\n",
       "      <td>-0.269978</td>\n",
       "    </tr>\n",
       "  </tbody>\n",
       "</table>\n",
       "<p>20000 rows × 5 columns</p>\n",
       "</div>"
      ],
      "text/plain": [
       "              0         1         2         3         4\n",
       "0     -0.578624  0.914855  0.334424  0.358805 -0.231217\n",
       "1      0.529140  0.189415 -0.304102 -0.375808  0.154754\n",
       "2     -0.402412 -0.413368  0.471234  0.096167 -0.146847\n",
       "3      0.544270  0.054748 -0.028898 -0.148680  0.100775\n",
       "4      0.592233 -0.282391  0.342865 -0.087714 -0.191947\n",
       "...         ...       ...       ...       ...       ...\n",
       "19995 -0.420337 -0.282312 -0.316739  0.054642 -0.036224\n",
       "19996  0.501218  0.323388 -0.151593  0.078738  0.420555\n",
       "19997 -0.456561 -0.008348  0.021588 -0.154407  0.149376\n",
       "19998  0.506199  0.324269 -0.319590 -0.205425  0.332418\n",
       "19999  0.597128 -0.281954  0.310538 -0.339041 -0.269978\n",
       "\n",
       "[20000 rows x 5 columns]"
      ]
     },
     "execution_count": 107,
     "metadata": {},
     "output_type": "execute_result"
    }
   ],
   "source": [
    "data_ex8_transformed"
   ]
  },
  {
   "cell_type": "code",
   "execution_count": 108,
   "metadata": {},
   "outputs": [
    {
     "data": {
      "text/plain": [
       "0    0\n",
       "1    0\n",
       "2    0\n",
       "3    0\n",
       "4    0\n",
       "dtype: int64"
      ]
     },
     "execution_count": 108,
     "metadata": {},
     "output_type": "execute_result"
    }
   ],
   "source": [
    "data_ex8_transformed.isnull().sum()"
   ]
  },
  {
   "cell_type": "markdown",
   "metadata": {},
   "source": [
    "# Answer \n",
    "From 8 numeric variables, the data_ex8, which included some features with nulls, we ended up with a dataset with no nulls and only 5 features, that are based on the original features\n",
    "but now, we lost the explicability of the dataset. Nevertheless this might be important with having less features and therefore less resources being aloted to compute the model than explicability\n",
    "these 5 features still manages to explain 99.5% of the variance of the original dataset, therefore, in this case we transform eight features into five with minimal loss of information."
   ]
  },
  {
   "cell_type": "code",
   "execution_count": null,
   "metadata": {},
   "outputs": [],
   "source": []
  },
  {
   "cell_type": "markdown",
   "metadata": {},
   "source": [
    "# EXERCISE 9"
   ]
  },
  {
   "cell_type": "markdown",
   "metadata": {},
   "source": [
    "Create a new Pipeline with, **at least, one Transformer created by you**. This Transformer should help on solving one of the issues the dataset has such as for example, outliers, dropping columns based on any particular characteristic, encoding, etc. Then, fit and transform the dataset. NOTE: you can choose to work only with **numerical** or **categorical** variables to ease your work."
   ]
  },
  {
   "cell_type": "code",
   "execution_count": 109,
   "metadata": {},
   "outputs": [],
   "source": [
    "data_ex9 = pd.read_csv('final_project_lending.csv', low_memory=False)\n"
   ]
  },
  {
   "cell_type": "code",
   "execution_count": 110,
   "metadata": {},
   "outputs": [],
   "source": [
    "data_ex9_y = pd.DataFrame(data_ex9['bad_loan'])"
   ]
  },
  {
   "cell_type": "code",
   "execution_count": 111,
   "metadata": {},
   "outputs": [],
   "source": [
    "#data_ex9_y"
   ]
  },
  {
   "cell_type": "code",
   "execution_count": 112,
   "metadata": {},
   "outputs": [],
   "source": [
    "data_ex9 = data_ex9.drop(['last_major_derog_none', 'id', 'od_ratio', 'bad_loan'], axis=1)"
   ]
  },
  {
   "cell_type": "code",
   "execution_count": 113,
   "metadata": {},
   "outputs": [
    {
     "data": {
      "text/html": [
       "<div>\n",
       "<style scoped>\n",
       "    .dataframe tbody tr th:only-of-type {\n",
       "        vertical-align: middle;\n",
       "    }\n",
       "\n",
       "    .dataframe tbody tr th {\n",
       "        vertical-align: top;\n",
       "    }\n",
       "\n",
       "    .dataframe thead th {\n",
       "        text-align: right;\n",
       "    }\n",
       "</style>\n",
       "<table border=\"1\" class=\"dataframe\">\n",
       "  <thead>\n",
       "    <tr style=\"text-align: right;\">\n",
       "      <th></th>\n",
       "      <th>grade</th>\n",
       "      <th>annual_inc</th>\n",
       "      <th>short_emp</th>\n",
       "      <th>emp_length_num</th>\n",
       "      <th>home_ownership</th>\n",
       "      <th>dti</th>\n",
       "      <th>purpose</th>\n",
       "      <th>term</th>\n",
       "      <th>last_delinq_none</th>\n",
       "      <th>revol_util</th>\n",
       "      <th>total_rec_late_fee</th>\n",
       "    </tr>\n",
       "  </thead>\n",
       "  <tbody>\n",
       "    <tr>\n",
       "      <th>0</th>\n",
       "      <td>A</td>\n",
       "      <td>100000.0</td>\n",
       "      <td>1</td>\n",
       "      <td>1</td>\n",
       "      <td>RENT</td>\n",
       "      <td>26.27</td>\n",
       "      <td>credit_card</td>\n",
       "      <td>36 months</td>\n",
       "      <td>1</td>\n",
       "      <td>43.2</td>\n",
       "      <td>0.0</td>\n",
       "    </tr>\n",
       "    <tr>\n",
       "      <th>1</th>\n",
       "      <td>A</td>\n",
       "      <td>83000.0</td>\n",
       "      <td>0</td>\n",
       "      <td>4</td>\n",
       "      <td>OWN</td>\n",
       "      <td>5.39</td>\n",
       "      <td>credit_card</td>\n",
       "      <td>36 months</td>\n",
       "      <td>0</td>\n",
       "      <td>21.5</td>\n",
       "      <td>0.0</td>\n",
       "    </tr>\n",
       "    <tr>\n",
       "      <th>2</th>\n",
       "      <td>D</td>\n",
       "      <td>78000.0</td>\n",
       "      <td>0</td>\n",
       "      <td>11</td>\n",
       "      <td>MORTGAGE</td>\n",
       "      <td>18.45</td>\n",
       "      <td>debt_consolidation</td>\n",
       "      <td>60 months</td>\n",
       "      <td>1</td>\n",
       "      <td>46.3</td>\n",
       "      <td>0.0</td>\n",
       "    </tr>\n",
       "    <tr>\n",
       "      <th>3</th>\n",
       "      <td>D</td>\n",
       "      <td>37536.0</td>\n",
       "      <td>0</td>\n",
       "      <td>6</td>\n",
       "      <td>MORTGAGE</td>\n",
       "      <td>12.28</td>\n",
       "      <td>medical</td>\n",
       "      <td>60 months</td>\n",
       "      <td>0</td>\n",
       "      <td>10.7</td>\n",
       "      <td>0.0</td>\n",
       "    </tr>\n",
       "    <tr>\n",
       "      <th>4</th>\n",
       "      <td>D</td>\n",
       "      <td>65000.0</td>\n",
       "      <td>0</td>\n",
       "      <td>11</td>\n",
       "      <td>MORTGAGE</td>\n",
       "      <td>11.26</td>\n",
       "      <td>debt_consolidation</td>\n",
       "      <td>36 months</td>\n",
       "      <td>0</td>\n",
       "      <td>15.2</td>\n",
       "      <td>0.0</td>\n",
       "    </tr>\n",
       "  </tbody>\n",
       "</table>\n",
       "</div>"
      ],
      "text/plain": [
       "  grade  annual_inc  short_emp  emp_length_num home_ownership    dti  \\\n",
       "0     A    100000.0          1               1           RENT  26.27   \n",
       "1     A     83000.0          0               4            OWN   5.39   \n",
       "2     D     78000.0          0              11       MORTGAGE  18.45   \n",
       "3     D     37536.0          0               6       MORTGAGE  12.28   \n",
       "4     D     65000.0          0              11       MORTGAGE  11.26   \n",
       "\n",
       "              purpose        term  last_delinq_none  revol_util  \\\n",
       "0         credit_card   36 months                 1        43.2   \n",
       "1         credit_card   36 months                 0        21.5   \n",
       "2  debt_consolidation   60 months                 1        46.3   \n",
       "3             medical   60 months                 0        10.7   \n",
       "4  debt_consolidation   36 months                 0        15.2   \n",
       "\n",
       "   total_rec_late_fee  \n",
       "0                 0.0  \n",
       "1                 0.0  \n",
       "2                 0.0  \n",
       "3                 0.0  \n",
       "4                 0.0  "
      ]
     },
     "execution_count": 113,
     "metadata": {},
     "output_type": "execute_result"
    }
   ],
   "source": [
    "data_ex9.head()"
   ]
  },
  {
   "cell_type": "code",
   "execution_count": 114,
   "metadata": {},
   "outputs": [
    {
     "data": {
      "text/plain": [
       "grade                  object\n",
       "annual_inc            float64\n",
       "short_emp               int64\n",
       "emp_length_num          int64\n",
       "home_ownership         object\n",
       "dti                   float64\n",
       "purpose                object\n",
       "term                   object\n",
       "last_delinq_none        int64\n",
       "revol_util            float64\n",
       "total_rec_late_fee    float64\n",
       "dtype: object"
      ]
     },
     "execution_count": 114,
     "metadata": {},
     "output_type": "execute_result"
    }
   ],
   "source": [
    "data_ex9.dtypes"
   ]
  },
  {
   "cell_type": "code",
   "execution_count": 115,
   "metadata": {},
   "outputs": [
    {
     "data": {
      "text/plain": [
       "grade                    0\n",
       "annual_inc               0\n",
       "short_emp                0\n",
       "emp_length_num           0\n",
       "home_ownership        1491\n",
       "dti                    154\n",
       "purpose                  0\n",
       "term                     0\n",
       "last_delinq_none         0\n",
       "revol_util               0\n",
       "total_rec_late_fee       0\n",
       "dtype: int64"
      ]
     },
     "execution_count": 115,
     "metadata": {},
     "output_type": "execute_result"
    }
   ],
   "source": [
    "data_ex9.isnull().sum()"
   ]
  },
  {
   "cell_type": "code",
   "execution_count": 116,
   "metadata": {},
   "outputs": [],
   "source": [
    "class onlynumericaldata(BaseEstimator, TransformerMixin):\n",
    "    def __init__(self):\n",
    "        super().__init__()\n",
    "\n",
    "    def fit(self, X, y=None):\n",
    "        return self\n",
    "\n",
    "    def transform(self, X, y=None):\n",
    "        # Numerical features to pass down the numerical pipeline\n",
    "        X = X.select_dtypes(include='number')\n",
    "        \n",
    "        return X.values"
   ]
  },
  {
   "cell_type": "code",
   "execution_count": 117,
   "metadata": {},
   "outputs": [],
   "source": [
    "class onlycategoricaldata(BaseEstimator, TransformerMixin):\n",
    "    def __init__(self):\n",
    "        super().__init__()\n",
    "\n",
    "    def fit(self, X, y=None):\n",
    "        return self\n",
    "\n",
    "    def transform(self, X, y=None):\n",
    "        # Numerical features to pass down the numerical pipeline\n",
    "        X = X = X.select_dtypes(exclude='number')\n",
    "        \n",
    "        return X.values"
   ]
  },
  {
   "cell_type": "code",
   "execution_count": 118,
   "metadata": {},
   "outputs": [],
   "source": [
    "# This Transformer was produced during class\n",
    "class DropColumns(TransformerMixin):\n",
    "    def __init__(self, na_threshold=0.1):\n",
    "\n",
    "        self.na_threshold = na_threshold\n",
    "    \n",
    "    def fit(self, X, y=None):\n",
    "        na_ratio = X.isnull().mean()\n",
    "        self.columns_to_drop = X.columns[na_ratio > self.na_threshold].tolist()\n",
    "        return self\n",
    "    \n",
    "    def transform(self, X):\n",
    "        return X.drop(columns=self.columns_to_drop)"
   ]
  },
  {
   "cell_type": "code",
   "execution_count": 119,
   "metadata": {},
   "outputs": [],
   "source": [
    "class DataframeFunctionTransformer():\n",
    "    def __init__(self, func):\n",
    "        self.func = func\n",
    "\n",
    "    def transform(self, input_df):\n",
    "        return self.func(input_df)\n",
    "\n",
    "    def fit(self, X, y=None):\n",
    "        return self\n",
    "    \n",
    "def change_lower_case (df):\n",
    "    df = df.apply(lambda x: x.str.lower() if x.dtype == 'object' else x) \n",
    "    return df\n",
    "def change_upper_case (df):\n",
    "    df = df.apply(lambda x: x.str.upper() if x.dtype == 'object' else x) \n",
    "    return df"
   ]
  },
  {
   "cell_type": "code",
   "execution_count": 120,
   "metadata": {},
   "outputs": [],
   "source": [
    "# The function used in this Transformer was produced during class\n",
    "class OutlierIdentifier(BaseEstimator,TransformerMixin):\n",
    "    def __init__(self, n_std = 3): # n_std will define the lower and upper bound\n",
    "        self.n_std = n_std\n",
    "        \n",
    "    def outlier_detector(self,X,y=None):\n",
    "        X = pd.Series(X).copy()\n",
    "        mean = X.mean()\n",
    "        std = X.std()\n",
    "        #set to np.nan values outside the lower and upper bound\n",
    "        X.loc[((X < mean - self.n_std * std) | (X > mean + self.n_std * std))] = np.nan\n",
    "        return pd.Series(X)\n",
    "    \n",
    "    def fit(self,X,y=None):\n",
    "        return self\n",
    "    \n",
    "    def transform(self,X,y=None):\n",
    "        X = pd.DataFrame(X)\n",
    "        return X.apply(self.outlier_detector)"
   ]
  },
  {
   "cell_type": "code",
   "execution_count": 121,
   "metadata": {},
   "outputs": [],
   "source": [
    "numeric_pipeline = Pipeline([\n",
    "                            ('step_1', onlynumericaldata()),\n",
    "                            ('step_2', OutlierIdentifier(n_std = 5)),\n",
    "                            ('step_3', SimpleImputer(strategy='median')),\n",
    "                            ('step_4', MinMaxScaler())\n",
    "                            \n",
    "])"
   ]
  },
  {
   "cell_type": "code",
   "execution_count": 122,
   "metadata": {},
   "outputs": [],
   "source": [
    "data_ex9_numeric = numeric_pipeline.fit_transform(data_ex9)"
   ]
  },
  {
   "cell_type": "code",
   "execution_count": 123,
   "metadata": {},
   "outputs": [
    {
     "data": {
      "text/plain": [
       "array([[0.31958072, 1.        , 0.09090909, ..., 1.        , 0.33723653,\n",
       "        0.        ],\n",
       "       [0.26026212, 0.        , 0.36363636, ..., 0.        , 0.16783763,\n",
       "        0.        ],\n",
       "       [0.24281547, 0.        , 1.        , ..., 1.        , 0.36143638,\n",
       "        0.        ],\n",
       "       ...,\n",
       "       [0.33353804, 0.        , 0.45454545, ..., 1.        , 0.6128025 ,\n",
       "        0.        ],\n",
       "       [0.10463802, 0.        , 0.18181818, ..., 0.        , 0.37002342,\n",
       "        0.        ],\n",
       "       [0.4940472 , 0.        , 1.        , ..., 0.        , 0.31772053,\n",
       "        0.        ]])"
      ]
     },
     "execution_count": 123,
     "metadata": {},
     "output_type": "execute_result"
    }
   ],
   "source": [
    "data_ex9_numeric"
   ]
  },
  {
   "cell_type": "code",
   "execution_count": 124,
   "metadata": {},
   "outputs": [],
   "source": [
    "data_ex9_numeric = pd.DataFrame(data_ex9_numeric)"
   ]
  },
  {
   "cell_type": "code",
   "execution_count": 125,
   "metadata": {},
   "outputs": [
    {
     "data": {
      "text/html": [
       "<div>\n",
       "<style scoped>\n",
       "    .dataframe tbody tr th:only-of-type {\n",
       "        vertical-align: middle;\n",
       "    }\n",
       "\n",
       "    .dataframe tbody tr th {\n",
       "        vertical-align: top;\n",
       "    }\n",
       "\n",
       "    .dataframe thead th {\n",
       "        text-align: right;\n",
       "    }\n",
       "</style>\n",
       "<table border=\"1\" class=\"dataframe\">\n",
       "  <thead>\n",
       "    <tr style=\"text-align: right;\">\n",
       "      <th></th>\n",
       "      <th>0</th>\n",
       "      <th>1</th>\n",
       "      <th>2</th>\n",
       "      <th>3</th>\n",
       "      <th>4</th>\n",
       "      <th>5</th>\n",
       "      <th>6</th>\n",
       "    </tr>\n",
       "  </thead>\n",
       "  <tbody>\n",
       "    <tr>\n",
       "      <th>0</th>\n",
       "      <td>0.319581</td>\n",
       "      <td>1.0</td>\n",
       "      <td>0.090909</td>\n",
       "      <td>0.750786</td>\n",
       "      <td>1.0</td>\n",
       "      <td>0.337237</td>\n",
       "      <td>0.0</td>\n",
       "    </tr>\n",
       "    <tr>\n",
       "      <th>1</th>\n",
       "      <td>0.260262</td>\n",
       "      <td>0.0</td>\n",
       "      <td>0.363636</td>\n",
       "      <td>0.154044</td>\n",
       "      <td>0.0</td>\n",
       "      <td>0.167838</td>\n",
       "      <td>0.0</td>\n",
       "    </tr>\n",
       "    <tr>\n",
       "      <th>2</th>\n",
       "      <td>0.242815</td>\n",
       "      <td>0.0</td>\n",
       "      <td>1.000000</td>\n",
       "      <td>0.527294</td>\n",
       "      <td>1.0</td>\n",
       "      <td>0.361436</td>\n",
       "      <td>0.0</td>\n",
       "    </tr>\n",
       "    <tr>\n",
       "      <th>3</th>\n",
       "      <td>0.101623</td>\n",
       "      <td>0.0</td>\n",
       "      <td>0.545455</td>\n",
       "      <td>0.350957</td>\n",
       "      <td>0.0</td>\n",
       "      <td>0.083528</td>\n",
       "      <td>0.0</td>\n",
       "    </tr>\n",
       "    <tr>\n",
       "      <th>4</th>\n",
       "      <td>0.197454</td>\n",
       "      <td>0.0</td>\n",
       "      <td>1.000000</td>\n",
       "      <td>0.321806</td>\n",
       "      <td>0.0</td>\n",
       "      <td>0.118657</td>\n",
       "      <td>0.0</td>\n",
       "    </tr>\n",
       "  </tbody>\n",
       "</table>\n",
       "</div>"
      ],
      "text/plain": [
       "          0    1         2         3    4         5    6\n",
       "0  0.319581  1.0  0.090909  0.750786  1.0  0.337237  0.0\n",
       "1  0.260262  0.0  0.363636  0.154044  0.0  0.167838  0.0\n",
       "2  0.242815  0.0  1.000000  0.527294  1.0  0.361436  0.0\n",
       "3  0.101623  0.0  0.545455  0.350957  0.0  0.083528  0.0\n",
       "4  0.197454  0.0  1.000000  0.321806  0.0  0.118657  0.0"
      ]
     },
     "execution_count": 125,
     "metadata": {},
     "output_type": "execute_result"
    }
   ],
   "source": [
    "data_ex9_numeric.head()"
   ]
  },
  {
   "cell_type": "code",
   "execution_count": 126,
   "metadata": {},
   "outputs": [],
   "source": [
    "categoric_pipeline = Pipeline([\n",
    "                            ('step_2', DataframeFunctionTransformer(change_upper_case)),\n",
    "                            ('step_1', onlycategoricaldata()),\n",
    "                            ('step_3', SimpleImputer(strategy='most_frequent')),\n",
    "                            ('setp_4', OrdinalEncoder()),\n",
    "                            ('step_5', MinMaxScaler())\n",
    "])"
   ]
  },
  {
   "cell_type": "code",
   "execution_count": 127,
   "metadata": {},
   "outputs": [],
   "source": [
    "data_ex9_categoric = categoric_pipeline.fit_transform(data_ex9)"
   ]
  },
  {
   "cell_type": "code",
   "execution_count": 128,
   "metadata": {},
   "outputs": [],
   "source": [
    "data_ex9_categoric = pd.DataFrame(data_ex9_categoric)"
   ]
  },
  {
   "cell_type": "code",
   "execution_count": 129,
   "metadata": {},
   "outputs": [
    {
     "data": {
      "text/html": [
       "<div>\n",
       "<style scoped>\n",
       "    .dataframe tbody tr th:only-of-type {\n",
       "        vertical-align: middle;\n",
       "    }\n",
       "\n",
       "    .dataframe tbody tr th {\n",
       "        vertical-align: top;\n",
       "    }\n",
       "\n",
       "    .dataframe thead th {\n",
       "        text-align: right;\n",
       "    }\n",
       "</style>\n",
       "<table border=\"1\" class=\"dataframe\">\n",
       "  <thead>\n",
       "    <tr style=\"text-align: right;\">\n",
       "      <th></th>\n",
       "      <th>0</th>\n",
       "      <th>1</th>\n",
       "      <th>2</th>\n",
       "      <th>3</th>\n",
       "    </tr>\n",
       "  </thead>\n",
       "  <tbody>\n",
       "    <tr>\n",
       "      <th>0</th>\n",
       "      <td>0.0</td>\n",
       "      <td>1.0</td>\n",
       "      <td>0.090909</td>\n",
       "      <td>0.0</td>\n",
       "    </tr>\n",
       "    <tr>\n",
       "      <th>1</th>\n",
       "      <td>0.0</td>\n",
       "      <td>0.5</td>\n",
       "      <td>0.090909</td>\n",
       "      <td>0.0</td>\n",
       "    </tr>\n",
       "    <tr>\n",
       "      <th>2</th>\n",
       "      <td>0.5</td>\n",
       "      <td>0.0</td>\n",
       "      <td>0.181818</td>\n",
       "      <td>1.0</td>\n",
       "    </tr>\n",
       "    <tr>\n",
       "      <th>3</th>\n",
       "      <td>0.5</td>\n",
       "      <td>0.0</td>\n",
       "      <td>0.545455</td>\n",
       "      <td>1.0</td>\n",
       "    </tr>\n",
       "    <tr>\n",
       "      <th>4</th>\n",
       "      <td>0.5</td>\n",
       "      <td>0.0</td>\n",
       "      <td>0.181818</td>\n",
       "      <td>0.0</td>\n",
       "    </tr>\n",
       "  </tbody>\n",
       "</table>\n",
       "</div>"
      ],
      "text/plain": [
       "     0    1         2    3\n",
       "0  0.0  1.0  0.090909  0.0\n",
       "1  0.0  0.5  0.090909  0.0\n",
       "2  0.5  0.0  0.181818  1.0\n",
       "3  0.5  0.0  0.545455  1.0\n",
       "4  0.5  0.0  0.181818  0.0"
      ]
     },
     "execution_count": 129,
     "metadata": {},
     "output_type": "execute_result"
    }
   ],
   "source": [
    "data_ex9_categoric.head()"
   ]
  },
  {
   "cell_type": "code",
   "execution_count": null,
   "metadata": {},
   "outputs": [],
   "source": []
  },
  {
   "cell_type": "code",
   "execution_count": 130,
   "metadata": {},
   "outputs": [],
   "source": [
    "data_ex9_total = pd.concat([data_ex9_categoric, data_ex9_numeric], axis=1, ignore_index = True)"
   ]
  },
  {
   "cell_type": "code",
   "execution_count": 131,
   "metadata": {},
   "outputs": [],
   "source": [
    "#data_ex9_total"
   ]
  },
  {
   "cell_type": "code",
   "execution_count": 132,
   "metadata": {},
   "outputs": [
    {
     "data": {
      "text/plain": [
       "0     0\n",
       "1     0\n",
       "2     0\n",
       "3     0\n",
       "4     0\n",
       "5     0\n",
       "6     0\n",
       "7     0\n",
       "8     0\n",
       "9     0\n",
       "10    0\n",
       "dtype: int64"
      ]
     },
     "execution_count": 132,
     "metadata": {},
     "output_type": "execute_result"
    }
   ],
   "source": [
    "data_ex9_total.isnull().sum()"
   ]
  },
  {
   "cell_type": "code",
   "execution_count": 133,
   "metadata": {},
   "outputs": [],
   "source": [
    "reducing_features = Pipeline([\n",
    "    ('PCA', PCA(n_components=6)),\n",
    "])"
   ]
  },
  {
   "cell_type": "code",
   "execution_count": 134,
   "metadata": {},
   "outputs": [],
   "source": [
    "data_ex9_reduced = reducing_features.fit_transform(data_ex9_total)"
   ]
  },
  {
   "cell_type": "code",
   "execution_count": 135,
   "metadata": {},
   "outputs": [],
   "source": [
    "data_ex9_reduced = pd.DataFrame(data_ex9_reduced)"
   ]
  },
  {
   "cell_type": "code",
   "execution_count": 136,
   "metadata": {},
   "outputs": [
    {
     "data": {
      "text/html": [
       "<div>\n",
       "<style scoped>\n",
       "    .dataframe tbody tr th:only-of-type {\n",
       "        vertical-align: middle;\n",
       "    }\n",
       "\n",
       "    .dataframe tbody tr th {\n",
       "        vertical-align: top;\n",
       "    }\n",
       "\n",
       "    .dataframe thead th {\n",
       "        text-align: right;\n",
       "    }\n",
       "</style>\n",
       "<table border=\"1\" class=\"dataframe\">\n",
       "  <thead>\n",
       "    <tr style=\"text-align: right;\">\n",
       "      <th></th>\n",
       "      <th>0</th>\n",
       "      <th>1</th>\n",
       "      <th>2</th>\n",
       "      <th>3</th>\n",
       "      <th>4</th>\n",
       "      <th>5</th>\n",
       "    </tr>\n",
       "  </thead>\n",
       "  <tbody>\n",
       "    <tr>\n",
       "      <th>0</th>\n",
       "      <td>1.000235</td>\n",
       "      <td>0.471569</td>\n",
       "      <td>-0.025041</td>\n",
       "      <td>0.605504</td>\n",
       "      <td>-0.096948</td>\n",
       "      <td>-0.412969</td>\n",
       "    </tr>\n",
       "    <tr>\n",
       "      <th>1</th>\n",
       "      <td>-0.268345</td>\n",
       "      <td>0.558450</td>\n",
       "      <td>-0.252850</td>\n",
       "      <td>0.052485</td>\n",
       "      <td>0.477491</td>\n",
       "      <td>0.157122</td>\n",
       "    </tr>\n",
       "    <tr>\n",
       "      <th>2</th>\n",
       "      <td>-0.110347</td>\n",
       "      <td>-0.927244</td>\n",
       "      <td>0.447830</td>\n",
       "      <td>-0.088600</td>\n",
       "      <td>0.035360</td>\n",
       "      <td>-0.150071</td>\n",
       "    </tr>\n",
       "    <tr>\n",
       "      <th>3</th>\n",
       "      <td>-0.777823</td>\n",
       "      <td>-0.194682</td>\n",
       "      <td>0.513073</td>\n",
       "      <td>0.282956</td>\n",
       "      <td>0.308722</td>\n",
       "      <td>0.188472</td>\n",
       "    </tr>\n",
       "    <tr>\n",
       "      <th>4</th>\n",
       "      <td>-0.690589</td>\n",
       "      <td>0.081864</td>\n",
       "      <td>-0.341934</td>\n",
       "      <td>-0.170739</td>\n",
       "      <td>0.120996</td>\n",
       "      <td>-0.103800</td>\n",
       "    </tr>\n",
       "  </tbody>\n",
       "</table>\n",
       "</div>"
      ],
      "text/plain": [
       "          0         1         2         3         4         5\n",
       "0  1.000235  0.471569 -0.025041  0.605504 -0.096948 -0.412969\n",
       "1 -0.268345  0.558450 -0.252850  0.052485  0.477491  0.157122\n",
       "2 -0.110347 -0.927244  0.447830 -0.088600  0.035360 -0.150071\n",
       "3 -0.777823 -0.194682  0.513073  0.282956  0.308722  0.188472\n",
       "4 -0.690589  0.081864 -0.341934 -0.170739  0.120996 -0.103800"
      ]
     },
     "execution_count": 136,
     "metadata": {},
     "output_type": "execute_result"
    }
   ],
   "source": [
    "data_ex9_reduced.head()"
   ]
  },
  {
   "cell_type": "code",
   "execution_count": 137,
   "metadata": {},
   "outputs": [
    {
     "data": {
      "text/plain": [
       "(20000, 6)"
      ]
     },
     "execution_count": 137,
     "metadata": {},
     "output_type": "execute_result"
    }
   ],
   "source": [
    "data_ex9_reduced.shape"
   ]
  },
  {
   "cell_type": "markdown",
   "metadata": {},
   "source": [
    "After three pipelines and three very simples custom transformers, plus some other sklearn transformers we achieved a final dataset, normalized, without potential outliers, and 20000 observation and 6 feature. Because the last pipeline is a one step transformer, PCA, is impossible to relate the features of the final dataset with the original features. \n",
    "\n",
    "We knew from previous exercices that only one feature, revol_util, actualy had outliers´, however for the sake of the exercice and using a custom transformer we used the outliers detector transformer, but to offset the impact of this transformer we used a very conservative lower and upper bound of 5 times the standart deviation. "
   ]
  },
  {
   "cell_type": "code",
   "execution_count": null,
   "metadata": {},
   "outputs": [],
   "source": []
  },
  {
   "cell_type": "code",
   "execution_count": null,
   "metadata": {},
   "outputs": [],
   "source": []
  },
  {
   "cell_type": "code",
   "execution_count": 138,
   "metadata": {},
   "outputs": [],
   "source": [
    "# Going a bit further"
   ]
  },
  {
   "cell_type": "code",
   "execution_count": 139,
   "metadata": {},
   "outputs": [],
   "source": [
    "from sklearn.model_selection import train_test_split\n",
    "from sklearn.linear_model import LogisticRegression\n",
    "from sklearn.metrics import accuracy_score\n",
    "from sklearn.model_selection import GridSearchCV\n",
    "from sklearn.neighbors import KNeighborsClassifier\n",
    "from sklearn.ensemble import RandomForestClassifier\n",
    "\n",
    "\n",
    "seed = 42"
   ]
  },
  {
   "cell_type": "code",
   "execution_count": 140,
   "metadata": {},
   "outputs": [
    {
     "data": {
      "text/plain": [
       "bad_loan\n",
       "0    16000\n",
       "1     4000\n",
       "Name: bad_loan, dtype: int64"
      ]
     },
     "execution_count": 140,
     "metadata": {},
     "output_type": "execute_result"
    }
   ],
   "source": [
    "data_ex9_y.groupby('bad_loan')['bad_loan'].count()"
   ]
  },
  {
   "cell_type": "code",
   "execution_count": 141,
   "metadata": {},
   "outputs": [
    {
     "data": {
      "text/plain": [
       "0.8"
      ]
     },
     "execution_count": 141,
     "metadata": {},
     "output_type": "execute_result"
    }
   ],
   "source": [
    "# A simple Baseline\n",
    "\n",
    "16000/(16000+4000)"
   ]
  },
  {
   "cell_type": "code",
   "execution_count": 142,
   "metadata": {},
   "outputs": [],
   "source": [
    "data_ex9_to_model = pd.concat([data_ex9_reduced, data_ex9_y], axis=1, ignore_index = True)"
   ]
  },
  {
   "cell_type": "code",
   "execution_count": 143,
   "metadata": {},
   "outputs": [
    {
     "data": {
      "text/html": [
       "<div>\n",
       "<style scoped>\n",
       "    .dataframe tbody tr th:only-of-type {\n",
       "        vertical-align: middle;\n",
       "    }\n",
       "\n",
       "    .dataframe tbody tr th {\n",
       "        vertical-align: top;\n",
       "    }\n",
       "\n",
       "    .dataframe thead th {\n",
       "        text-align: right;\n",
       "    }\n",
       "</style>\n",
       "<table border=\"1\" class=\"dataframe\">\n",
       "  <thead>\n",
       "    <tr style=\"text-align: right;\">\n",
       "      <th></th>\n",
       "      <th>0</th>\n",
       "      <th>1</th>\n",
       "      <th>2</th>\n",
       "      <th>3</th>\n",
       "      <th>4</th>\n",
       "      <th>5</th>\n",
       "      <th>6</th>\n",
       "    </tr>\n",
       "  </thead>\n",
       "  <tbody>\n",
       "    <tr>\n",
       "      <th>0</th>\n",
       "      <td>1.000235</td>\n",
       "      <td>0.471569</td>\n",
       "      <td>-0.025041</td>\n",
       "      <td>0.605504</td>\n",
       "      <td>-0.096948</td>\n",
       "      <td>-0.412969</td>\n",
       "      <td>0</td>\n",
       "    </tr>\n",
       "    <tr>\n",
       "      <th>1</th>\n",
       "      <td>-0.268345</td>\n",
       "      <td>0.558450</td>\n",
       "      <td>-0.252850</td>\n",
       "      <td>0.052485</td>\n",
       "      <td>0.477491</td>\n",
       "      <td>0.157122</td>\n",
       "      <td>0</td>\n",
       "    </tr>\n",
       "    <tr>\n",
       "      <th>2</th>\n",
       "      <td>-0.110347</td>\n",
       "      <td>-0.927244</td>\n",
       "      <td>0.447830</td>\n",
       "      <td>-0.088600</td>\n",
       "      <td>0.035360</td>\n",
       "      <td>-0.150071</td>\n",
       "      <td>1</td>\n",
       "    </tr>\n",
       "    <tr>\n",
       "      <th>3</th>\n",
       "      <td>-0.777823</td>\n",
       "      <td>-0.194682</td>\n",
       "      <td>0.513073</td>\n",
       "      <td>0.282956</td>\n",
       "      <td>0.308722</td>\n",
       "      <td>0.188472</td>\n",
       "      <td>1</td>\n",
       "    </tr>\n",
       "    <tr>\n",
       "      <th>4</th>\n",
       "      <td>-0.690589</td>\n",
       "      <td>0.081864</td>\n",
       "      <td>-0.341934</td>\n",
       "      <td>-0.170739</td>\n",
       "      <td>0.120996</td>\n",
       "      <td>-0.103800</td>\n",
       "      <td>0</td>\n",
       "    </tr>\n",
       "  </tbody>\n",
       "</table>\n",
       "</div>"
      ],
      "text/plain": [
       "          0         1         2         3         4         5  6\n",
       "0  1.000235  0.471569 -0.025041  0.605504 -0.096948 -0.412969  0\n",
       "1 -0.268345  0.558450 -0.252850  0.052485  0.477491  0.157122  0\n",
       "2 -0.110347 -0.927244  0.447830 -0.088600  0.035360 -0.150071  1\n",
       "3 -0.777823 -0.194682  0.513073  0.282956  0.308722  0.188472  1\n",
       "4 -0.690589  0.081864 -0.341934 -0.170739  0.120996 -0.103800  0"
      ]
     },
     "execution_count": 143,
     "metadata": {},
     "output_type": "execute_result"
    }
   ],
   "source": [
    "data_ex9_to_model.head()"
   ]
  },
  {
   "cell_type": "code",
   "execution_count": 144,
   "metadata": {},
   "outputs": [],
   "source": [
    "train_set, test_set = train_test_split(data_ex9_to_model, test_size = 0.2, random_state = seed)\n",
    "\n",
    "X_train = train_set.drop([6], axis = 1)\n",
    "y_train = train_set[6]\n",
    "\n",
    "X_test = test_set.drop([6], axis = 1)\n",
    "y_test = test_set[6]\n"
   ]
  },
  {
   "cell_type": "code",
   "execution_count": 145,
   "metadata": {},
   "outputs": [],
   "source": [
    "# Logistic regression\n",
    "\n",
    "lr = LogisticRegression(random_state = seed, max_iter = 500).fit(X_train, y_train)"
   ]
  },
  {
   "cell_type": "code",
   "execution_count": 146,
   "metadata": {},
   "outputs": [],
   "source": [
    "y_preds = lr.predict(X_test)"
   ]
  },
  {
   "cell_type": "code",
   "execution_count": 147,
   "metadata": {},
   "outputs": [
    {
     "data": {
      "text/plain": [
       "0.80325"
      ]
     },
     "execution_count": 147,
     "metadata": {},
     "output_type": "execute_result"
    }
   ],
   "source": [
    "# Accuracy in test data\n",
    "\n",
    "accuracy_score(y_test, y_preds)"
   ]
  },
  {
   "cell_type": "code",
   "execution_count": 148,
   "metadata": {},
   "outputs": [],
   "source": [
    "lr = LogisticRegression(random_state = seed, max_iter = 500)\n",
    "\n",
    "parameters = {'C': [0.01, 0.1, 1, 10, 100]}"
   ]
  },
  {
   "cell_type": "code",
   "execution_count": 149,
   "metadata": {},
   "outputs": [],
   "source": [
    "clf = GridSearchCV(lr, parameters, cv = 5).fit(X_train, y_train)"
   ]
  },
  {
   "cell_type": "code",
   "execution_count": 150,
   "metadata": {},
   "outputs": [
    {
     "data": {
      "text/plain": [
       "LogisticRegression(C=0.1, max_iter=500, random_state=42)"
      ]
     },
     "execution_count": 150,
     "metadata": {},
     "output_type": "execute_result"
    }
   ],
   "source": [
    "clf.best_estimator_"
   ]
  },
  {
   "cell_type": "code",
   "execution_count": 151,
   "metadata": {},
   "outputs": [
    {
     "data": {
      "text/plain": [
       "0.8008749999999999"
      ]
     },
     "execution_count": 151,
     "metadata": {},
     "output_type": "execute_result"
    }
   ],
   "source": [
    "# Accuracy on train data\n",
    "\n",
    "clf.best_score_"
   ]
  },
  {
   "cell_type": "code",
   "execution_count": 152,
   "metadata": {},
   "outputs": [],
   "source": [
    "# knn\n",
    "\n",
    "knn = KNeighborsClassifier(n_neighbors = 20).fit(X_train, y_train)"
   ]
  },
  {
   "cell_type": "code",
   "execution_count": 153,
   "metadata": {},
   "outputs": [],
   "source": [
    "y_preds = knn.predict(X_test)"
   ]
  },
  {
   "cell_type": "code",
   "execution_count": 154,
   "metadata": {},
   "outputs": [
    {
     "data": {
      "text/plain": [
       "0.7995"
      ]
     },
     "execution_count": 154,
     "metadata": {},
     "output_type": "execute_result"
    }
   ],
   "source": [
    "accuracy_score(y_test, y_preds)"
   ]
  },
  {
   "cell_type": "code",
   "execution_count": 155,
   "metadata": {},
   "outputs": [
    {
     "name": "stdout",
     "output_type": "stream",
     "text": [
      "Accuracy for k =  40 is:  0.80475\n",
      "Accuracy for k =  45 is:  0.80325\n",
      "Accuracy for k =  50 is:  0.80225\n",
      "Accuracy for k =  55 is:  0.804\n"
     ]
    }
   ],
   "source": [
    "for k in range(40, 60, 5):\n",
    "\n",
    "  knn = KNeighborsClassifier(n_neighbors = k).fit(X_train, y_train)\n",
    "\n",
    "  accuracy = knn.score(X_test, y_test)\n",
    "\n",
    "  print('Accuracy for k = ', k , 'is: ', accuracy)"
   ]
  },
  {
   "cell_type": "code",
   "execution_count": 156,
   "metadata": {},
   "outputs": [],
   "source": [
    "parameters = {'n_neighbors': range(30, 40, 1)}"
   ]
  },
  {
   "cell_type": "code",
   "execution_count": 157,
   "metadata": {},
   "outputs": [],
   "source": [
    "knn = KNeighborsClassifier()"
   ]
  },
  {
   "cell_type": "code",
   "execution_count": 158,
   "metadata": {},
   "outputs": [],
   "source": [
    "clf = GridSearchCV(knn, parameters, cv = 5).fit(X_train, y_train)"
   ]
  },
  {
   "cell_type": "code",
   "execution_count": 159,
   "metadata": {},
   "outputs": [
    {
     "data": {
      "text/plain": [
       "0.7994375"
      ]
     },
     "execution_count": 159,
     "metadata": {},
     "output_type": "execute_result"
    }
   ],
   "source": [
    "# Accuracy train\n",
    "\n",
    "clf.best_score_"
   ]
  },
  {
   "cell_type": "code",
   "execution_count": 160,
   "metadata": {},
   "outputs": [
    {
     "data": {
      "text/plain": [
       "KNeighborsClassifier(n_neighbors=35)"
      ]
     },
     "execution_count": 160,
     "metadata": {},
     "output_type": "execute_result"
    }
   ],
   "source": [
    "clf.best_estimator_"
   ]
  },
  {
   "cell_type": "code",
   "execution_count": 161,
   "metadata": {},
   "outputs": [],
   "source": [
    "y_preds = clf.predict(X_test)"
   ]
  },
  {
   "cell_type": "code",
   "execution_count": 162,
   "metadata": {},
   "outputs": [
    {
     "data": {
      "text/plain": [
       "0.80275"
      ]
     },
     "execution_count": 162,
     "metadata": {},
     "output_type": "execute_result"
    }
   ],
   "source": [
    "# Accuracy test\n",
    "\n",
    "accuracy_score(y_test, y_preds)"
   ]
  },
  {
   "cell_type": "code",
   "execution_count": 163,
   "metadata": {},
   "outputs": [],
   "source": [
    "# Random forest\n",
    "\n",
    "rf = RandomForestClassifier(random_state = seed).fit(X_train, y_train)"
   ]
  },
  {
   "cell_type": "code",
   "execution_count": 164,
   "metadata": {},
   "outputs": [],
   "source": [
    "y_preds = rf.predict(X_test)"
   ]
  },
  {
   "cell_type": "code",
   "execution_count": 165,
   "metadata": {},
   "outputs": [
    {
     "data": {
      "text/plain": [
       "0.783"
      ]
     },
     "execution_count": 165,
     "metadata": {},
     "output_type": "execute_result"
    }
   ],
   "source": [
    "# Accuracy train\n",
    "\n",
    "accuracy_score(y_test, y_preds)"
   ]
  },
  {
   "cell_type": "code",
   "execution_count": 166,
   "metadata": {},
   "outputs": [],
   "source": [
    "clf_tree = RandomForestClassifier(random_state = seed)"
   ]
  },
  {
   "cell_type": "code",
   "execution_count": 167,
   "metadata": {},
   "outputs": [],
   "source": [
    "parameters = {'n_estimators': [10, 100, 300], 'min_samples_split': [10, 50]}"
   ]
  },
  {
   "cell_type": "code",
   "execution_count": 168,
   "metadata": {},
   "outputs": [],
   "source": [
    "clf = GridSearchCV(clf_tree, parameters, cv = 5).fit(X_train, y_train)"
   ]
  },
  {
   "cell_type": "code",
   "execution_count": 169,
   "metadata": {},
   "outputs": [],
   "source": [
    "y_preds = clf.predict(X_test)"
   ]
  },
  {
   "cell_type": "code",
   "execution_count": 170,
   "metadata": {},
   "outputs": [
    {
     "data": {
      "text/plain": [
       "0.8"
      ]
     },
     "execution_count": 170,
     "metadata": {},
     "output_type": "execute_result"
    }
   ],
   "source": [
    "# Accuracy test\n",
    "\n",
    "accuracy_score(y_test, y_preds)"
   ]
  },
  {
   "cell_type": "code",
   "execution_count": 171,
   "metadata": {},
   "outputs": [
    {
     "data": {
      "text/plain": [
       "{'min_samples_split': 50, 'n_estimators': 100}"
      ]
     },
     "execution_count": 171,
     "metadata": {},
     "output_type": "execute_result"
    }
   ],
   "source": [
    "clf.best_params_"
   ]
  },
  {
   "cell_type": "code",
   "execution_count": null,
   "metadata": {},
   "outputs": [],
   "source": []
  },
  {
   "cell_type": "code",
   "execution_count": null,
   "metadata": {},
   "outputs": [],
   "source": []
  },
  {
   "cell_type": "markdown",
   "metadata": {},
   "source": [
    "The baseline for this inbalanced data is 0.8.\n",
    "\n",
    "We've tried some models suitable for supervised classification problems, and the results were underperforming.\n",
    "\n",
    "Even with with the best performing model with the best performing parameters the results were not above 0.8 which means we failed to extract impactfully information.\n",
    "\n",
    "There are however several things that could be tested. Trying feature selection, with the most importante features, therefore trying to reduce noisy data.\n",
    "We could try diferent scalers, we used MinMax but could have tried StandardScaler, We could also have tried One Hot Encoding or Binary encoding (reducing data, at the cost of information) instead of OrdinalEncoding. We could have tried binning (and even smoothing the bins). And could try to feature engineering, with more knowlegde regarding the banking system.\n",
    "\n",
    "Lastly we could try more paramenters in the models used, or use other models (like SVM, which takes a while to train).\n",
    "\n",
    "\n"
   ]
  },
  {
   "cell_type": "code",
   "execution_count": null,
   "metadata": {},
   "outputs": [],
   "source": []
  }
 ],
 "metadata": {
  "kernelspec": {
   "display_name": "Python 3 (ipykernel)",
   "language": "python",
   "name": "python3"
  },
  "language_info": {
   "codemirror_mode": {
    "name": "ipython",
    "version": 3
   },
   "file_extension": ".py",
   "mimetype": "text/x-python",
   "name": "python",
   "nbconvert_exporter": "python",
   "pygments_lexer": "ipython3",
   "version": "3.9.7"
  }
 },
 "nbformat": 4,
 "nbformat_minor": 4
}
